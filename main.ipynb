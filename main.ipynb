{
 "cells": [
  {
   "cell_type": "code",
   "execution_count": 1,
   "metadata": {},
   "outputs": [
    {
     "name": "stdout",
     "output_type": "stream",
     "text": [
      "<class 'pennylane.ops.op_math.sum.Sum'>\n"
     ]
    }
   ],
   "source": [
    "import pennylane as qml\n",
    "import numpy as np\n",
    "\n",
    "symbols = [\"H\", \"H\"]\n",
    "geometry = np.array([[0, 0, 0],\n",
    "                     [ 1.0,  0.0, 0.00]])\n",
    "\n",
    "molecule = qml.qchem.Molecule(symbols, geometry)\n",
    "\n",
    "H, qubits = qml.qchem.molecular_hamiltonian(molecule, method=\"openfermion\")\n",
    "qubits\n",
    "print(type(H))"
   ]
  },
  {
   "cell_type": "code",
   "execution_count": 2,
   "metadata": {},
   "outputs": [
    {
     "name": "stdout",
     "output_type": "stream",
     "text": [
      "<bound method Sum.terms of (\n",
      "    0.2981788017240886 * I(0)\n",
      "  + 0.20813364846519306 * Z(0)\n",
      "  + 0.20813364846519303 * Z(1)\n",
      "  + -0.3472487379311632 * Z(2)\n",
      "  + -0.3472487379311632 * Z(3)\n",
      "  + 0.17860976975920267 * (Z(0) @ Z(1))\n",
      "  + 0.042560360960009966 * (Y(0) @ X(1) @ X(2) @ Y(3))\n",
      "  + -0.042560360960009966 * (Y(0) @ Y(1) @ X(2) @ X(3))\n",
      "  + -0.042560360960009966 * (X(0) @ X(1) @ Y(2) @ Y(3))\n",
      "  + 0.042560360960009966 * (X(0) @ Y(1) @ Y(2) @ X(3))\n",
      "  + 0.13290292805786222 * (Z(0) @ Z(2))\n",
      "  + 0.17546328901787217 * (Z(0) @ Z(3))\n",
      "  + 0.17546328901787217 * (Z(1) @ Z(2))\n",
      "  + 0.13290292805786222 * (Z(1) @ Z(3))\n",
      "  + 0.18470917332930595 * (Z(2) @ Z(3))\n",
      ")>\n"
     ]
    }
   ],
   "source": [
    "print(H.terms)"
   ]
  },
  {
   "cell_type": "code",
   "execution_count": null,
   "metadata": {},
   "outputs": [],
   "source": []
  },
  {
   "cell_type": "code",
   "execution_count": null,
   "metadata": {},
   "outputs": [],
   "source": [
    "h_pl = qml.qchem.openfermion_pyscf._openfermion_hamiltonian(\n",
    "        symbols,\n",
    "        geometry_hf,\n",
    "        name,\n",
    "        charge,\n",
    "        mult,\n",
    "        basis,\n",
    "        active_electrons,\n",
    "        active_orbitals,\n",
    "        mapping,\n",
    "        outpath,\n",
    "        wires,\n",
    "        convert_tol,\n",
    "    )"
   ]
  },
  {
   "cell_type": "code",
   "execution_count": null,
   "metadata": {},
   "outputs": [],
   "source": [
    "from pyscf import scf, gto\n",
    "\n",
    "# Define a molecule that you want to work on\n",
    "mol = gto.M(atom= 'H 0.0 0.0 0.0; H 1.0 0.0 0.0', basis='631g')\n",
    "\n",
    "mf = scf.HF(mol)\n",
    "\n",
    "mf.kernel()\n",
    "#expected result: converged SCF energy = -1.09480796286051\""
   ]
  }
 ],
 "metadata": {
  "kernelspec": {
   "display_name": "pasqal",
   "language": "python",
   "name": "python3"
  },
  "language_info": {
   "codemirror_mode": {
    "name": "ipython",
    "version": 3
   },
   "file_extension": ".py",
   "mimetype": "text/x-python",
   "name": "python",
   "nbconvert_exporter": "python",
   "pygments_lexer": "ipython3",
   "version": "3.13.2"
  }
 },
 "nbformat": 4,
 "nbformat_minor": 2
}
