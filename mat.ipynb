{
 "cells": [
  {
   "cell_type": "code",
   "execution_count": 1,
   "metadata": {},
   "outputs": [],
   "source": [
    "import numpy as np"
   ]
  },
  {
   "cell_type": "code",
   "execution_count": 4,
   "metadata": {},
   "outputs": [],
   "source": [
    "Q = np.array([[-2.,0.,2.,2.,0.,1.,0.,2.],\n",
    "[0.,-2.,0.,0.,2.,2.,2.,0.],\n",
    "[0.,0.,1.64200288,1.,-2.61260348,7.30876402,-2.61260348,3.60861221],\n",
    "[0.,0.,0.,-1.,-7.5474696,2.58915659, -2.61260348,1.],\n",
    "[0.,0.,0.,0.,-8.5474696,1.,8.30876402,-2.61260348],\n",
    "[0.,0.,0.,0.,0.,-1.,1.,2.58915659],\n",
    "[0.,0.,0.,0.,0.,1.,-8.5474696,-7.5474696 ],\n",
    "[0.,0.,0.,0.,0.,1.,0.,1.60861221]])"
   ]
  },
  {
   "cell_type": "code",
   "execution_count": 7,
   "metadata": {},
   "outputs": [
    {
     "data": {
      "text/plain": [
       "array([[-2.        ,  0.        ,  2.        ,  2.        ,  0.        ,\n",
       "         1.        ,  0.        ,  2.        ],\n",
       "       [ 0.        , -2.        ,  0.        ,  0.        ,  2.        ,\n",
       "         2.        ,  2.        ,  0.        ],\n",
       "       [ 0.        ,  0.        ,  1.64200288,  1.        , -2.61260348,\n",
       "         7.30876402, -2.61260348,  3.60861221],\n",
       "       [ 0.        ,  0.        ,  0.        , -1.        , -7.5474696 ,\n",
       "         2.58915659, -2.61260348,  1.        ],\n",
       "       [ 0.        ,  0.        ,  0.        ,  0.        , -8.5474696 ,\n",
       "         1.        ,  8.30876402, -2.61260348],\n",
       "       [ 0.        ,  0.        ,  0.        ,  0.        ,  0.        ,\n",
       "        -1.        ,  1.        ,  2.58915659],\n",
       "       [ 0.        ,  0.        ,  0.        ,  0.        ,  0.        ,\n",
       "         1.        , -8.5474696 , -7.5474696 ],\n",
       "       [ 0.        ,  0.        ,  0.        ,  0.        ,  0.        ,\n",
       "         1.        ,  0.        ,  1.60861221]])"
      ]
     },
     "execution_count": 7,
     "metadata": {},
     "output_type": "execute_result"
    }
   ],
   "source": [
    "Q"
   ]
  },
  {
   "cell_type": "code",
   "execution_count": 9,
   "metadata": {},
   "outputs": [],
   "source": [
    "e1 = {'s1': -8.547469604478072, 's2': -8.547469604478072, 's1s2': -1.0, 'auxs1,s2': -2.0, 's0': 1.6420028817615409, 's3': 1.6086122081219623, 's0s3': -1.0, 'auxs0,s3': -2.0}\n",
    "e2 = {('s2', 's1'): 8.308764021488646, ('s1s2', 's1'): 1.0, ('s1s2', 's2'): 1.0, ('auxs1,s2', 's1'): 2.0, ('auxs1,s2', 's2'): 2.0, ('auxs1,s2', 's1s2'): 2.0, ('s0', 's1'): -2.612603479880166, ('s0', 's2'): -2.612603479880166, ('s0', 's1s2'): 7.3087640214886465, ('s3', 's1'): -2.612603479880166, ('s3', 's2'): -7.5474696044780725, ('s3', 's1s2'): 2.5891565890198076, ('s3', 's0'): 3.6086122081219623, ('s0s3', 's1'): -7.5474696044780725, ('s0s3', 's2'): -2.612603479880166, ('s0s3', 's1s2'): 2.5891565890198076, ('s0s3', 's0'): 1.0, ('s0s3', 's3'): 1.0, ('auxs0,s3', 's0'): 2.0, ('auxs0,s3', 's3'): 2.0, ('auxs0,s3', 's0s3'): 2.0}"
   ]
  },
  {
   "cell_type": "code",
   "execution_count": 27,
   "metadata": {},
   "outputs": [
    {
     "data": {
      "text/plain": [
       "['s1', 's2', 's1s2', 'auxs1,s2', 's0', 's3', 's0s3', 'auxs0,s3']"
      ]
     },
     "execution_count": 27,
     "metadata": {},
     "output_type": "execute_result"
    }
   ],
   "source": [
    "x = [i for i in e1.keys()]\n",
    "x"
   ]
  },
  {
   "cell_type": "code",
   "execution_count": 31,
   "metadata": {},
   "outputs": [],
   "source": [
    "x_str = \"\"\n",
    "for i in x:\n",
    "    x_str += i\n",
    "    x_str += \" \"\n",
    "x_str = x_str[:len(x_str) - 1]"
   ]
  },
  {
   "cell_type": "code",
   "execution_count": 17,
   "metadata": {},
   "outputs": [
    {
     "ename": "UFuncTypeError",
     "evalue": "ufunc 'matmul' did not contain a loop with signature matching types (dtype('<U8'), dtype('float64')) -> None",
     "output_type": "error",
     "traceback": [
      "\u001b[31m---------------------------------------------------------------------------\u001b[39m",
      "\u001b[31mUFuncTypeError\u001b[39m                            Traceback (most recent call last)",
      "\u001b[36mCell\u001b[39m\u001b[36m \u001b[39m\u001b[32mIn[17]\u001b[39m\u001b[32m, line 1\u001b[39m\n\u001b[32m----> \u001b[39m\u001b[32m1\u001b[39m \u001b[43mx\u001b[49m\u001b[43m.\u001b[49m\u001b[43mT\u001b[49m\u001b[43m \u001b[49m\u001b[43m@\u001b[49m\u001b[43m \u001b[49m\u001b[43mQ\u001b[49m @ x\n",
      "\u001b[31mUFuncTypeError\u001b[39m: ufunc 'matmul' did not contain a loop with signature matching types (dtype('<U8'), dtype('float64')) -> None"
     ]
    }
   ],
   "source": [
    "x.T @ Q @ x"
   ]
  },
  {
   "cell_type": "code",
   "execution_count": 18,
   "metadata": {},
   "outputs": [
    {
     "name": "stdout",
     "output_type": "stream",
     "text": [
      "Matrix([[(x + x1)**2 + (x + x2)**2 + (x + x3)**2]])\n"
     ]
    }
   ],
   "source": [
    "from sympy import symbols, Matrix, Transpose\n",
    "x, x1, x2, x3 = symbols('x x1 x2 x3')\n",
    "A = Matrix([[x+x1, x+x2, x+x3]])\n",
    "B = A * Transpose(A)\n",
    "# or B = A * A.T\n",
    "print (B)"
   ]
  },
  {
   "cell_type": "code",
   "execution_count": 19,
   "metadata": {},
   "outputs": [],
   "source": [
    "Q = Matrix(Q)"
   ]
  },
  {
   "cell_type": "code",
   "execution_count": null,
   "metadata": {},
   "outputs": [
    {
     "name": "stderr",
     "output_type": "stream",
     "text": [
      "/var/folders/f4/yq98bq3d4nd8y68456b1gf1r0000gn/T/ipykernel_6196/943530469.py:1: SymPyDeprecationWarning: \n",
      "\n",
      "non-Expr objects in a Matrix is deprecated. Matrix represents\n",
      "a mathematical matrix. To represent a container of non-numeric\n",
      "entities, Use a list of lists, TableForm, NumPy array, or some\n",
      "other data structure instead.\n",
      "\n",
      "See https://docs.sympy.org/latest/explanation/active-deprecations.html#deprecated-non-expr-in-matrix\n",
      "for details.\n",
      "\n",
      "This has been deprecated since SymPy version 1.9. It\n",
      "will be removed in a future version of SymPy.\n",
      "\n",
      "  x = Matrix(x)\n"
     ]
    }
   ],
   "source": []
  },
  {
   "cell_type": "code",
   "execution_count": 37,
   "metadata": {},
   "outputs": [
    {
     "data": {
      "text/plain": [
       "'s1 s2 s1s2 auxs1,s2 s0 s3 s0s3 auxs0,s3'"
      ]
     },
     "execution_count": 37,
     "metadata": {},
     "output_type": "execute_result"
    }
   ],
   "source": [
    "x_str"
   ]
  },
  {
   "cell_type": "code",
   "execution_count": 55,
   "metadata": {},
   "outputs": [],
   "source": [
    "x_sym = symbols('s1s2 auxs1 s1 s0 s0s3 auxs0 s2 s3')"
   ]
  },
  {
   "cell_type": "code",
   "execution_count": 56,
   "metadata": {},
   "outputs": [
    {
     "data": {
      "text/plain": [
       "(s1s2, auxs1, s1, s0, s0s3, auxs0, s2, s3)"
      ]
     },
     "execution_count": 56,
     "metadata": {},
     "output_type": "execute_result"
    }
   ],
   "source": [
    "x_sym"
   ]
  },
  {
   "cell_type": "code",
   "execution_count": 57,
   "metadata": {},
   "outputs": [],
   "source": [
    "x = Matrix(x_sym)"
   ]
  },
  {
   "cell_type": "code",
   "execution_count": 58,
   "metadata": {},
   "outputs": [],
   "source": [
    "eq = x.T @ Q @ x"
   ]
  },
  {
   "cell_type": "code",
   "execution_count": 59,
   "metadata": {},
   "outputs": [
    {
     "data": {
      "text/latex": [
       "$\\displaystyle auxs_{0} \\left(- 1.0 auxs_{0} + 2.0 auxs_{1} + 2.58915659 s_{0} + 1.0 s0s3 + 7.30876402 s_{1} + 1.0 s1s2 + 1.0 s_{2} + 1.0 s_{3}\\right) - 2.0 auxs_{1}^{2} + s_{0} \\left(- 1.0 s_{0} + 1.0 s_{1} + 2.0 s1s2\\right) + s0s3 \\cdot \\left(2.0 auxs_{1} - 7.5474696 s_{0} - 8.5474696 s0s3 - 2.61260348 s_{1}\\right) + s_{1} \\cdot \\left(1.64200288 s_{1} + 2.0 s1s2\\right) - 2.0 s1s2^{2} + s_{2} \\cdot \\left(1.0 auxs_{0} + 2.0 auxs_{1} - 2.61260348 s_{0} + 8.30876402 s0s3 - 2.61260348 s_{1} - 8.5474696 s_{2}\\right) + s_{3} \\cdot \\left(2.58915659 auxs_{0} + 1.0 s_{0} - 2.61260348 s0s3 + 3.60861221 s_{1} + 2.0 s1s2 - 7.5474696 s_{2} + 1.60861221 s_{3}\\right)$"
      ],
      "text/plain": [
       "auxs0*(-1.0*auxs0 + 2.0*auxs1 + 2.58915659*s0 + 1.0*s0s3 + 7.30876402*s1 + 1.0*s1s2 + 1.0*s2 + 1.0*s3) - 2.0*auxs1**2 + s0*(-1.0*s0 + 1.0*s1 + 2.0*s1s2) + s0s3*(2.0*auxs1 - 7.5474696*s0 - 8.5474696*s0s3 - 2.61260348*s1) + s1*(1.64200288*s1 + 2.0*s1s2) - 2.0*s1s2**2 + s2*(1.0*auxs0 + 2.0*auxs1 - 2.61260348*s0 + 8.30876402*s0s3 - 2.61260348*s1 - 8.5474696*s2) + s3*(2.58915659*auxs0 + 1.0*s0 - 2.61260348*s0s3 + 3.60861221*s1 + 2.0*s1s2 - 7.5474696*s2 + 1.60861221*s3)"
      ]
     },
     "execution_count": 59,
     "metadata": {},
     "output_type": "execute_result"
    }
   ],
   "source": [
    "eq[0]"
   ]
  },
  {
   "cell_type": "code",
   "execution_count": 49,
   "metadata": {},
   "outputs": [
    {
     "data": {
      "text/plain": [
       "{('s2', 's1'): 8.308764021488646,\n",
       " ('s1s2', 's1'): 1.0,\n",
       " ('s1s2', 's2'): 1.0,\n",
       " ('auxs1,s2', 's1'): 2.0,\n",
       " ('auxs1,s2', 's2'): 2.0,\n",
       " ('auxs1,s2', 's1s2'): 2.0,\n",
       " ('s0', 's1'): -2.612603479880166,\n",
       " ('s0', 's2'): -2.612603479880166,\n",
       " ('s0', 's1s2'): 7.3087640214886465,\n",
       " ('s3', 's1'): -2.612603479880166,\n",
       " ('s3', 's2'): -7.5474696044780725,\n",
       " ('s3', 's1s2'): 2.5891565890198076,\n",
       " ('s3', 's0'): 3.6086122081219623,\n",
       " ('s0s3', 's1'): -7.5474696044780725,\n",
       " ('s0s3', 's2'): -2.612603479880166,\n",
       " ('s0s3', 's1s2'): 2.5891565890198076,\n",
       " ('s0s3', 's0'): 1.0,\n",
       " ('s0s3', 's3'): 1.0,\n",
       " ('auxs0,s3', 's0'): 2.0,\n",
       " ('auxs0,s3', 's3'): 2.0,\n",
       " ('auxs0,s3', 's0s3'): 2.0}"
      ]
     },
     "execution_count": 49,
     "metadata": {},
     "output_type": "execute_result"
    }
   ],
   "source": [
    "e2"
   ]
  },
  {
   "cell_type": "code",
   "execution_count": null,
   "metadata": {},
   "outputs": [],
   "source": [
    "{('s2', 's1'): 33.23505608595458,\n",
    " ('s1*s2', 's1'): 4.0,\n",
    " ('s1*s2', 's2'): 4.0,\n",
    " ('auxs1,s2', 's1'): 8.0,\n",
    " ('auxs1,s2', 's2'): 8.0,\n",
    " ('auxs1,s2', 's1*s2'): 8.0,\n",
    " ('s0', 's1'): -10.450413919520663,\n",
    " ('s0', 's2'): -10.450413919520663,\n",
    " ('s0', 's1*s2'): 29.235056085954586,\n",
    " ('s3', 's1'): -10.450413919520663,\n",
    " ('s3', 's2'): -30.18987841791229,\n",
    " ('s3', 's1*s2'): 10.35662635607923,\n",
    " ('s3', 's0'): 14.434448832487849,\n",
    " ('s0*s3', 's1'): -30.18987841791229,\n",
    " ('s0*s3', 's2'): -10.450413919520663,\n",
    " ('s0*s3', 's1*s2'): 10.35662635607923,\n",
    " ('s0*s3', 's0'): 4.0,\n",
    " ('s0*s3', 's3'): 4.0,\n",
    " ('auxs0,s3', 's0'): 8.0,\n",
    " ('auxs0,s3', 's3'): 8.0,\n",
    " ('auxs0,s3', 's0*s3'): 8.0,\n",
    " ('s1', 's1'): -14.167114123456628,\n",
    " ('s2', 's2'): -14.167114123456628,\n",
    " ('s1*s2', 's1*s2'): -34.97415439905652,\n",
    " ('auxs1,s2', 'auxs1,s2'): -16.0,\n",
    " ('s0', 's0'): -14.100332776177472,\n",
    " ('s3', 's3'): 5.1418329906768605,\n",
    " ('s0*s3', 's0*s3'): 5.1418329906768605,\n",
    " ('auxs0,s3', 'auxs0,s3'): -16.0}"
   ]
  }
 ],
 "metadata": {
  "kernelspec": {
   "display_name": "pasqal",
   "language": "python",
   "name": "python3"
  },
  "language_info": {
   "codemirror_mode": {
    "name": "ipython",
    "version": 3
   },
   "file_extension": ".py",
   "mimetype": "text/x-python",
   "name": "python",
   "nbconvert_exporter": "python",
   "pygments_lexer": "ipython3",
   "version": "3.12.9"
  }
 },
 "nbformat": 4,
 "nbformat_minor": 2
}
