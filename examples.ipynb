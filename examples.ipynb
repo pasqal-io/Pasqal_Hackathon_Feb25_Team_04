{
 "cells": [
  {
   "cell_type": "code",
   "execution_count": 1,
   "metadata": {
    "colab": {
     "base_uri": "https://localhost:8080/",
     "height": 393
    },
    "id": "TUVdc5Uvi4jj",
    "outputId": "00fa1f62-8a5c-4f04-bb8a-e3e9beb257f7"
   },
   "outputs": [],
   "source": [
    "import math\n",
    "\n",
    "from openfermionpyscf import run_pyscf\n",
    "from openfermion.transforms import binary_code_transform, bravyi_kitaev_code, get_fermion_operator\n",
    "from openfermion.hamiltonians import MolecularData\n",
    "from openfermion.ops import FermionOperator, QubitOperator\n",
    "from openfermion.utils import count_qubits\n",
    "from pyscf import gto, scf, mcscf\n",
    "\n",
    "from helper_functions import *\n",
    "from XBK_method import *"
   ]
  },
  {
   "cell_type": "code",
   "execution_count": 2,
   "metadata": {
    "colab": {
     "base_uri": "https://localhost:8080/",
     "height": 216
    },
    "id": "gXK_hivrjJQC",
    "outputId": "44825061-67a3-461e-a41f-9af8da13a83c"
   },
   "outputs": [],
   "source": [
    "#create molecule\n",
    "name = 'H3'\n",
    "charge = 1\n",
    "multiplicity = 1\n",
    "basis = '631g'\n",
    "\n",
    "bond_length = 1.1\n",
    "geometry = get_molGeometry(name, bond_length)\n",
    "\n",
    "molecule = MolecularData(\n",
    "    geometry=geometry,\n",
    "    basis=basis,\n",
    "    multiplicity=multiplicity,\n",
    "    charge=charge\n",
    ")"
   ]
  },
  {
   "cell_type": "code",
   "execution_count": 3,
   "metadata": {
    "colab": {
     "base_uri": "https://localhost:8080/",
     "height": 216
    },
    "id": "T3odKPznjMzn",
    "outputId": "285e0402-f342-4ecd-e044-16f47b4254d7"
   },
   "outputs": [
    {
     "name": "stdout",
     "output_type": "stream",
     "text": [
      "-1.236374104407568\n"
     ]
    }
   ],
   "source": [
    "#run RHF calculations\n",
    "molecule = run_pyscf(molecule, run_scf=True)\n",
    "hf_energy = float(molecule.hf_energy)\n",
    "hf_data = molecule._pyscf_data['scf']\n",
    "\n",
    "print(hf_energy)"
   ]
  },
  {
   "cell_type": "code",
   "execution_count": 4,
   "metadata": {
    "colab": {
     "base_uri": "https://localhost:8080/",
     "height": 216
    },
    "id": "lSjWAZQhjR1F",
    "outputId": "3f8bbe90-f3db-4b5a-9267-a78505db897f"
   },
   "outputs": [
    {
     "name": "stdout",
     "output_type": "stream",
     "text": [
      "-1.2553148319654226\n"
     ]
    }
   ],
   "source": [
    "#define active space\n",
    "n_active_electrons = 2\n",
    "n_active_orbitals = 3\n",
    "occupied_indices, active_indices = get_active_space(molecule, n_active_electrons, n_active_orbitals)\n",
    "\n",
    "#run CASCI calculations\n",
    "casci_data = hf_data.CASCI(n_active_orbitals, n_active_electrons).run(verbose=False)\n",
    "casci_energy = float(casci_data.e_tot)\n",
    "\n",
    "print(casci_energy)"
   ]
  },
  {
   "cell_type": "code",
   "execution_count": 5,
   "metadata": {
    "colab": {
     "base_uri": "https://localhost:8080/",
     "height": 233
    },
    "id": "jEdozzKOjT1V",
    "outputId": "ca30e936-86ad-412e-fb9c-d39169aa4e02"
   },
   "outputs": [
    {
     "name": "stdout",
     "output_type": "stream",
     "text": [
      "21.443210575236364 [] +\n",
      "-21.62379810334505 [0^ 0] +\n",
      "5.0 [0^ 0 0^ 0] +\n",
      "5.0 [0^ 0 1^ 1] +\n",
      "5.0 [0^ 0 2^ 2] +\n",
      "5.0 [0^ 0 3^ 3] +\n",
      "5.0 [0^ 0 4^ 4] +\n",
      "5.0 [0^ 0 5^ 5] +\n",
      "0.28400576352308204 [0^ 0^ 0 0] +\n",
      "0.051182507589769055 [0^ 0^ 2 2] +\n",
      "0.05118250758976903 [0^ 0^ 4 4] +\n",
      "0.28400576352308204 [0^ 1^ 1 0] +\n",
      "0.051182507589769055 [0^ 1^ 3 2] +\n",
      "0.05118250758976903 [0^ 1^ 5 4] +\n",
      "0.051182507589769055 [0^ 2^ 0 2] +\n",
      "0.22520695976033195 [0^ 2^ 2 0] +\n",
      "0.004819967321007128 [0^ 2^ 2 2] +\n",
      "-0.02502497525177295 [0^ 2^ 2 4] +\n",
      "-0.025024975251772906 [0^ 2^ 4 2] +\n",
      "-0.004819967321007212 [0^ 2^ 4 4] +\n",
      "0.051182507589769055 [0^ 3^ 1 2] +\n",
      "0.22520695976033195 [0^ 3^ 3 0] +\n",
      "0.004819967321007128 [0^ 3^ 3 2] +\n",
      "-0.02502497525177295 [0^ 3^ 3 4] +\n",
      "-0.025024975251772906 [0^ 3^ 5 2] +\n",
      "-0.004819967321007212 [0^ 3^ 5 4] +\n",
      "0.05118250758976903 [0^ 4^ 0 4] +\n",
      "-0.025024975251772906 [0^ 4^ 2 2] +\n",
      "-0.004819967321007212 [0^ 4^ 2 4] +\n",
      "0.225206959760332 [0^ 4^ 4 0] +\n",
      "-0.004819967321007343 [0^ 4^ 4 2] +\n",
      "0.025024975251772854 [0^ 4^ 4 4] +\n",
      "0.05118250758976903 [0^ 5^ 1 4] +\n",
      "-0.025024975251772906 [0^ 5^ 3 2] +\n",
      "-0.004819967321007212 [0^ 5^ 3 4] +\n",
      "0.225206959760332 [0^ 5^ 5 0] +\n",
      "-0.004819967321007343 [0^ 5^ 5 2] +\n",
      "0.025024975251772854 [0^ 5^ 5 4] +\n",
      "0.28400576352308204 [1^ 0^ 0 1] +\n",
      "0.051182507589769055 [1^ 0^ 2 3] +\n",
      "0.05118250758976903 [1^ 0^ 4 5] +\n",
      "-21.62379810334505 [1^ 1] +\n",
      "5.0 [1^ 1 0^ 0] +\n",
      "5.0 [1^ 1 1^ 1] +\n",
      "5.0 [1^ 1 2^ 2] +\n",
      "5.0 [1^ 1 3^ 3] +\n",
      "5.0 [1^ 1 4^ 4] +\n",
      "5.0 [1^ 1 5^ 5] +\n",
      "0.28400576352308204 [1^ 1^ 1 1] +\n",
      "0.051182507589769055 [1^ 1^ 3 3] +\n",
      "0.05118250758976903 [1^ 1^ 5 5] +\n",
      "0.051182507589769055 [1^ 2^ 0 3] +\n",
      "0.22520695976033195 [1^ 2^ 2 1] +\n",
      "0.004819967321007128 [1^ 2^ 2 3] +\n",
      "-0.02502497525177295 [1^ 2^ 2 5] +\n",
      "-0.025024975251772906 [1^ 2^ 4 3] +\n",
      "-0.004819967321007212 [1^ 2^ 4 5] +\n",
      "0.051182507589769055 [1^ 3^ 1 3] +\n",
      "0.22520695976033195 [1^ 3^ 3 1] +\n",
      "0.004819967321007128 [1^ 3^ 3 3] +\n",
      "-0.02502497525177295 [1^ 3^ 3 5] +\n",
      "-0.025024975251772906 [1^ 3^ 5 3] +\n",
      "-0.004819967321007212 [1^ 3^ 5 5] +\n",
      "0.05118250758976903 [1^ 4^ 0 5] +\n",
      "-0.025024975251772906 [1^ 4^ 2 3] +\n",
      "-0.004819967321007212 [1^ 4^ 2 5] +\n",
      "0.225206959760332 [1^ 4^ 4 1] +\n",
      "-0.004819967321007343 [1^ 4^ 4 3] +\n",
      "0.025024975251772854 [1^ 4^ 4 5] +\n",
      "0.05118250758976903 [1^ 5^ 1 5] +\n",
      "-0.025024975251772906 [1^ 5^ 3 3] +\n",
      "-0.004819967321007212 [1^ 5^ 3 5] +\n",
      "0.225206959760332 [1^ 5^ 5 1] +\n",
      "-0.004819967321007343 [1^ 5^ 5 3] +\n",
      "0.025024975251772854 [1^ 5^ 5 5] +\n",
      "0.2252069597603319 [2^ 0^ 0 2] +\n",
      "0.051182507589769055 [2^ 0^ 2 0] +\n",
      "0.004819967321007109 [2^ 0^ 2 2] +\n",
      "-0.025024975251772903 [2^ 0^ 2 4] +\n",
      "-0.025024975251772955 [2^ 0^ 4 2] +\n",
      "-0.004819967321007248 [2^ 0^ 4 4] +\n",
      "0.2252069597603319 [2^ 1^ 1 2] +\n",
      "0.051182507589769055 [2^ 1^ 3 0] +\n",
      "0.004819967321007109 [2^ 1^ 3 2] +\n",
      "-0.025024975251772903 [2^ 1^ 3 4] +\n",
      "-0.025024975251772955 [2^ 1^ 5 2] +\n",
      "-0.004819967321007248 [2^ 1^ 5 4] +\n",
      "-21.03271180836632 [2^ 2] +\n",
      "5.0 [2^ 2 0^ 0] +\n",
      "5.0 [2^ 2 1^ 1] +\n",
      "5.0 [2^ 2 2^ 2] +\n",
      "5.0 [2^ 2 3^ 3] +\n",
      "5.0 [2^ 2 4^ 4] +\n",
      "5.0 [2^ 2 5^ 5] +\n",
      "0.051182507589769055 [2^ 2^ 0 0] +\n",
      "0.004819967321007109 [2^ 2^ 0 2] +\n",
      "-0.025024975251772903 [2^ 2^ 0 4] +\n",
      "0.004819967321007128 [2^ 2^ 2 0] +\n",
      "0.21722441624392477 [2^ 2^ 2 2] +\n",
      "-0.025024975251772906 [2^ 2^ 4 0] +\n",
      "0.019455619102154657 [2^ 2^ 4 4] +\n",
      "0.051182507589769055 [2^ 3^ 1 0] +\n",
      "0.004819967321007109 [2^ 3^ 1 2] +\n",
      "-0.025024975251772903 [2^ 3^ 1 4] +\n",
      "0.004819967321007128 [2^ 3^ 3 0] +\n",
      "0.21722441624392477 [2^ 3^ 3 2] +\n",
      "-0.025024975251772906 [2^ 3^ 5 0] +\n",
      "0.019455619102154657 [2^ 3^ 5 4] +\n",
      "-0.025024975251772955 [2^ 4^ 0 2] +\n",
      "-0.004819967321007248 [2^ 4^ 0 4] +\n",
      "-0.025024975251772906 [2^ 4^ 2 0] +\n",
      "0.019455619102154657 [2^ 4^ 2 4] +\n",
      "-0.004819967321007343 [2^ 4^ 4 0] +\n",
      "0.17831317803961524 [2^ 4^ 4 2] +\n",
      "-0.025024975251772955 [2^ 5^ 1 2] +\n",
      "-0.004819967321007248 [2^ 5^ 1 4] +\n",
      "-0.025024975251772906 [2^ 5^ 3 0] +\n",
      "0.019455619102154657 [2^ 5^ 3 4] +\n",
      "-0.004819967321007343 [2^ 5^ 5 0] +\n",
      "0.17831317803961524 [2^ 5^ 5 2] +\n",
      "0.2252069597603319 [3^ 0^ 0 3] +\n",
      "0.051182507589769055 [3^ 0^ 2 1] +\n",
      "0.004819967321007109 [3^ 0^ 2 3] +\n",
      "-0.025024975251772903 [3^ 0^ 2 5] +\n",
      "-0.025024975251772955 [3^ 0^ 4 3] +\n",
      "-0.004819967321007248 [3^ 0^ 4 5] +\n",
      "0.2252069597603319 [3^ 1^ 1 3] +\n",
      "0.051182507589769055 [3^ 1^ 3 1] +\n",
      "0.004819967321007109 [3^ 1^ 3 3] +\n",
      "-0.025024975251772903 [3^ 1^ 3 5] +\n",
      "-0.025024975251772955 [3^ 1^ 5 3] +\n",
      "-0.004819967321007248 [3^ 1^ 5 5] +\n",
      "0.051182507589769055 [3^ 2^ 0 1] +\n",
      "0.004819967321007109 [3^ 2^ 0 3] +\n",
      "-0.025024975251772903 [3^ 2^ 0 5] +\n",
      "0.004819967321007128 [3^ 2^ 2 1] +\n",
      "0.21722441624392477 [3^ 2^ 2 3] +\n",
      "-0.025024975251772906 [3^ 2^ 4 1] +\n",
      "0.019455619102154657 [3^ 2^ 4 5] +\n",
      "-21.03271180836632 [3^ 3] +\n",
      "5.0 [3^ 3 0^ 0] +\n",
      "5.0 [3^ 3 1^ 1] +\n",
      "5.0 [3^ 3 2^ 2] +\n",
      "5.0 [3^ 3 3^ 3] +\n",
      "5.0 [3^ 3 4^ 4] +\n",
      "5.0 [3^ 3 5^ 5] +\n",
      "0.051182507589769055 [3^ 3^ 1 1] +\n",
      "0.004819967321007109 [3^ 3^ 1 3] +\n",
      "-0.025024975251772903 [3^ 3^ 1 5] +\n",
      "0.004819967321007128 [3^ 3^ 3 1] +\n",
      "0.21722441624392477 [3^ 3^ 3 3] +\n",
      "-0.025024975251772906 [3^ 3^ 5 1] +\n",
      "0.019455619102154657 [3^ 3^ 5 5] +\n",
      "-0.025024975251772955 [3^ 4^ 0 3] +\n",
      "-0.004819967321007248 [3^ 4^ 0 5] +\n",
      "-0.025024975251772906 [3^ 4^ 2 1] +\n",
      "0.019455619102154657 [3^ 4^ 2 5] +\n",
      "-0.004819967321007343 [3^ 4^ 4 1] +\n",
      "0.17831317803961524 [3^ 4^ 4 3] +\n",
      "-0.025024975251772955 [3^ 5^ 1 3] +\n",
      "-0.004819967321007248 [3^ 5^ 1 5] +\n",
      "-0.025024975251772906 [3^ 5^ 3 1] +\n",
      "0.019455619102154657 [3^ 5^ 3 5] +\n",
      "-0.004819967321007343 [3^ 5^ 5 1] +\n",
      "0.17831317803961524 [3^ 5^ 5 3] +\n",
      "0.2252069597603319 [4^ 0^ 0 4] +\n",
      "-0.025024975251772903 [4^ 0^ 2 2] +\n",
      "-0.004819967321007335 [4^ 0^ 2 4] +\n",
      "0.05118250758976903 [4^ 0^ 4 0] +\n",
      "-0.004819967321007248 [4^ 0^ 4 2] +\n",
      "0.025024975251772864 [4^ 0^ 4 4] +\n",
      "0.2252069597603319 [4^ 1^ 1 4] +\n",
      "-0.025024975251772903 [4^ 1^ 3 2] +\n",
      "-0.004819967321007335 [4^ 1^ 3 4] +\n",
      "0.05118250758976903 [4^ 1^ 5 0] +\n",
      "-0.004819967321007248 [4^ 1^ 5 2] +\n",
      "0.025024975251772864 [4^ 1^ 5 4] +\n",
      "-0.025024975251772903 [4^ 2^ 0 2] +\n",
      "-0.004819967321007335 [4^ 2^ 0 4] +\n",
      "-0.02502497525177295 [4^ 2^ 2 0] +\n",
      "0.17831317803961536 [4^ 2^ 2 4] +\n",
      "-0.004819967321007212 [4^ 2^ 4 0] +\n",
      "0.019455619102154657 [4^ 2^ 4 2] +\n",
      "-0.025024975251772903 [4^ 3^ 1 2] +\n",
      "-0.004819967321007335 [4^ 3^ 1 4] +\n",
      "-0.02502497525177295 [4^ 3^ 3 0] +\n",
      "0.17831317803961536 [4^ 3^ 3 4] +\n",
      "-0.004819967321007212 [4^ 3^ 5 0] +\n",
      "0.019455619102154657 [4^ 3^ 5 2] +\n",
      "-21.03271180836632 [4^ 4] +\n",
      "5.0 [4^ 4 0^ 0] +\n",
      "5.0 [4^ 4 1^ 1] +\n",
      "5.0 [4^ 4 2^ 2] +\n",
      "5.0 [4^ 4 3^ 3] +\n",
      "5.0 [4^ 4 4^ 4] +\n",
      "5.0 [4^ 4 5^ 5] +\n",
      "0.05118250758976903 [4^ 4^ 0 0] +\n",
      "-0.004819967321007248 [4^ 4^ 0 2] +\n",
      "0.025024975251772864 [4^ 4^ 0 4] +\n",
      "-0.004819967321007212 [4^ 4^ 2 0] +\n",
      "0.019455619102154657 [4^ 4^ 2 2] +\n",
      "0.025024975251772854 [4^ 4^ 4 0] +\n",
      "0.2172244162439247 [4^ 4^ 4 4] +\n",
      "0.05118250758976903 [4^ 5^ 1 0] +\n",
      "-0.004819967321007248 [4^ 5^ 1 2] +\n",
      "0.025024975251772864 [4^ 5^ 1 4] +\n",
      "-0.004819967321007212 [4^ 5^ 3 0] +\n",
      "0.019455619102154657 [4^ 5^ 3 2] +\n",
      "0.025024975251772854 [4^ 5^ 5 0] +\n",
      "0.2172244162439247 [4^ 5^ 5 4] +\n",
      "0.2252069597603319 [5^ 0^ 0 5] +\n",
      "-0.025024975251772903 [5^ 0^ 2 3] +\n",
      "-0.004819967321007335 [5^ 0^ 2 5] +\n",
      "0.05118250758976903 [5^ 0^ 4 1] +\n",
      "-0.004819967321007248 [5^ 0^ 4 3] +\n",
      "0.025024975251772864 [5^ 0^ 4 5] +\n",
      "0.2252069597603319 [5^ 1^ 1 5] +\n",
      "-0.025024975251772903 [5^ 1^ 3 3] +\n",
      "-0.004819967321007335 [5^ 1^ 3 5] +\n",
      "0.05118250758976903 [5^ 1^ 5 1] +\n",
      "-0.004819967321007248 [5^ 1^ 5 3] +\n",
      "0.025024975251772864 [5^ 1^ 5 5] +\n",
      "-0.025024975251772903 [5^ 2^ 0 3] +\n",
      "-0.004819967321007335 [5^ 2^ 0 5] +\n",
      "-0.02502497525177295 [5^ 2^ 2 1] +\n",
      "0.17831317803961536 [5^ 2^ 2 5] +\n",
      "-0.004819967321007212 [5^ 2^ 4 1] +\n",
      "0.019455619102154657 [5^ 2^ 4 3] +\n",
      "-0.025024975251772903 [5^ 3^ 1 3] +\n",
      "-0.004819967321007335 [5^ 3^ 1 5] +\n",
      "-0.02502497525177295 [5^ 3^ 3 1] +\n",
      "0.17831317803961536 [5^ 3^ 3 5] +\n",
      "-0.004819967321007212 [5^ 3^ 5 1] +\n",
      "0.019455619102154657 [5^ 3^ 5 3] +\n",
      "0.05118250758976903 [5^ 4^ 0 1] +\n",
      "-0.004819967321007248 [5^ 4^ 0 3] +\n",
      "0.025024975251772864 [5^ 4^ 0 5] +\n",
      "-0.004819967321007212 [5^ 4^ 2 1] +\n",
      "0.019455619102154657 [5^ 4^ 2 3] +\n",
      "0.025024975251772854 [5^ 4^ 4 1] +\n",
      "0.2172244162439247 [5^ 4^ 4 5] +\n",
      "-21.03271180836632 [5^ 5] +\n",
      "5.0 [5^ 5 0^ 0] +\n",
      "5.0 [5^ 5 1^ 1] +\n",
      "5.0 [5^ 5 2^ 2] +\n",
      "5.0 [5^ 5 3^ 3] +\n",
      "5.0 [5^ 5 4^ 4] +\n",
      "5.0 [5^ 5 5^ 5] +\n",
      "0.05118250758976903 [5^ 5^ 1 1] +\n",
      "-0.004819967321007248 [5^ 5^ 1 3] +\n",
      "0.025024975251772864 [5^ 5^ 1 5] +\n",
      "-0.004819967321007212 [5^ 5^ 3 1] +\n",
      "0.019455619102154657 [5^ 5^ 3 3] +\n",
      "0.025024975251772854 [5^ 5^ 5 1] +\n",
      "0.2172244162439247 [5^ 5^ 5 5]\n"
     ]
    }
   ],
   "source": [
    "#convert to fermionic Hamiltonian\n",
    "molecular_H = molecule.get_molecular_hamiltonian(occupied_indices=occupied_indices, active_indices=active_indices)\n",
    "if molecular_H[()] == None:\n",
    "    molecular_H[()] = 0\n",
    "fermionic_H = get_fermion_operator(molecular_H)\n",
    "\n",
    "#add penalty term to ensure correct number of electrons in ground state\n",
    "weight = 5\n",
    "penalty_term = FermionOperator('', n_active_electrons)\n",
    "\n",
    "for i in range(molecular_H.n_qubits):\n",
    "    penalty_term += FermionOperator(str(i)+'^ '+str(i), -1)\n",
    "fermionic_H += weight*penalty_term**2\n",
    "\n",
    "print(fermionic_H)"
   ]
  },
  {
   "cell_type": "code",
   "execution_count": 6,
   "metadata": {
    "colab": {
     "base_uri": "https://localhost:8080/",
     "height": 216
    },
    "id": "cj6XSNHGjWTI",
    "outputId": "a521ec96-f204-4b33-83b4-1b5add77ff61"
   },
   "outputs": [
    {
     "name": "stdout",
     "output_type": "stream",
     "text": [
      "-1.2553148319654395 \n",
      "\n",
      "11.748849714003 [] +\n",
      "-0.002409983660503559 [X0] +\n",
      "0.0024099836605036154 [X0 X1 X2] +\n",
      "-0.012512487625886455 [X0 X1 Z2 X3] +\n",
      "0.002409983660503559 [X0 X1 Z2 Z3] +\n",
      "-0.012512487625886455 [X0 X1 X3] +\n",
      "0.002409983660503559 [X0 X1 Z3] +\n",
      "0.0024099836605036154 [X0 Y1 Y2] +\n",
      "0.012512487625886429 [X0 Z1 X2 X3] +\n",
      "-0.002409983660503615 [X0 Z1 X2 Z3] +\n",
      "0.002409983660503669 [X0 Z1 Z2] +\n",
      "-0.012512487625886429 [X0 Z1 X3] +\n",
      "0.002409983660503669 [X0 Z1 Z3] +\n",
      "0.012512487625886429 [X0 X2 X3] +\n",
      "-0.002409983660503615 [X0 X2 Z3] +\n",
      "0.012512487625886477 [X0 Z2 X3] +\n",
      "-0.002409983660503559 [X0 Z2 Z3] +\n",
      "-0.012512487625886453 [Y0 X1 X2 Y3] +\n",
      "-0.012512487625886453 [Y0 X1 Y2 X3] +\n",
      "0.0024099836605036154 [Y0 X1 Y2 Z3] +\n",
      "0.012512487625886453 [Y0 Y1 X2 X3] +\n",
      "-0.0024099836605036154 [Y0 Y1 X2 Z3] +\n",
      "-0.012512487625886453 [Y0 Y1 Y2 Y3] +\n",
      "-0.012512487625886455 [Y0 Y1 Z2 X3] +\n",
      "0.002409983660503669 [Y0 Y1 Z2 Z3] +\n",
      "-0.012512487625886455 [Y0 Y1 X3] +\n",
      "0.002409983660503669 [Y0 Y1 Z3] +\n",
      "0.012512487625886477 [Y0 Z1 Y2 X3] +\n",
      "-0.002409983660503615 [Y0 Z1 Y2 Z3] +\n",
      "-0.012512487625886477 [Y0 Z1 Z2 Y3] +\n",
      "0.012512487625886477 [Y0 Y2 X3] +\n",
      "-0.002409983660503615 [Y0 Y2 Z3] +\n",
      "0.012512487625886429 [Y0 Y3] +\n",
      "2.642002881761541 [Z0] +\n",
      "0.025591253794884528 [Z0 X1] +\n",
      "0.009727809551077328 [Z0 X1 X2 Z3] +\n",
      "0.025591253794884528 [Z0 X1 Z2] +\n",
      "0.025591253794884528 [Z0 X1 Z2 Z3] +\n",
      "0.025591253794884528 [Z0 X1 Z3] +\n",
      "0.009727809551077328 [Z0 Y1 Y2 Z3] +\n",
      "-2.612603479880166 [Z0 Z1] +\n",
      "0.02559125379488452 [Z0 Z1 X2] +\n",
      "7.3087640214886465 [Z0 Z1 Z2] +\n",
      "2.5891565890198076 [Z0 Z1 Z2 Z3] +\n",
      "-7.5474696044780725 [Z0 Z1 Z3] +\n",
      "0.02559125379488452 [Z0 X2] +\n",
      "-2.612603479880166 [Z0 Z2] +\n",
      "-2.612603479880166 [Z0 Z2 Z3] +\n",
      "2.6086122081219623 [Z0 Z3] +\n",
      "0.009727809551077328 [X1 X2 Z3] +\n",
      "0.009727809551077328 [Y1 Y2 Z3] +\n",
      "-7.5474696044780725 [Z1] +\n",
      "0.02559125379488452 [Z1 X2 Z3] +\n",
      "7.3087640214886465 [Z1 Z2] +\n",
      "2.5891565890198076 [Z1 Z2 Z3] +\n",
      "-2.612603479880166 [Z1 Z3] +\n",
      "0.02559125379488452 [X2 Z3] +\n",
      "-7.5474696044780725 [Z2] +\n",
      "-7.5474696044780725 [Z2 Z3] +\n",
      "2.6086122081219623 [Z3]\n"
     ]
    }
   ],
   "source": [
    "#convert to Pauli operator Hamiltonian\n",
    "binary_code = bravyi_kitaev_code(molecular_H.n_qubits)\n",
    "qubit_H = binary_code_transform(fermionic_H, binary_code)\n",
    "qubit_H.compress()\n",
    "\n",
    "#apply symmetry reductions and calculate minimum eigenvalue (should be equal to CASCI energy)\n",
    "sectors = taper_qubits(qubit_H)\n",
    "qubit_H, min_eigenvalue = sector_with_ground(sectors)\n",
    "m = count_qubits(qubit_H)\n",
    "\n",
    "print(min_eigenvalue, '\\n')\n",
    "print(qubit_H)"
   ]
  },
  {
   "cell_type": "code",
   "execution_count": 7,
   "metadata": {},
   "outputs": [],
   "source": [
    "from openfermion import get_sparse_operator\n",
    "\n",
    "result = XBK_transform(qubit_H, r=1, p=1)"
   ]
  },
  {
   "cell_type": "code",
   "execution_count": 8,
   "metadata": {},
   "outputs": [
    {
     "data": {
      "text/plain": [
       "11.748849714003 [] +\n",
       "2.642002881761541 [Z0] +\n",
       "-2.612603479880166 [Z0 Z1] +\n",
       "7.3087640214886465 [Z0 Z1 Z2] +\n",
       "2.5891565890198076 [Z0 Z1 Z2 Z3] +\n",
       "-7.5474696044780725 [Z0 Z1 Z3] +\n",
       "-2.612603479880166 [Z0 Z2] +\n",
       "-2.612603479880166 [Z0 Z2 Z3] +\n",
       "2.6086122081219623 [Z0 Z3] +\n",
       "-7.5474696044780725 [Z1] +\n",
       "7.3087640214886465 [Z1 Z2] +\n",
       "2.5891565890198076 [Z1 Z2 Z3] +\n",
       "-2.612603479880166 [Z1 Z3] +\n",
       "-7.5474696044780725 [Z2] +\n",
       "-7.5474696044780725 [Z2 Z3] +\n",
       "2.6086122081219623 [Z3]"
      ]
     },
     "execution_count": 8,
     "metadata": {},
     "output_type": "execute_result"
    }
   ],
   "source": [
    "result"
   ]
  },
  {
   "cell_type": "code",
   "execution_count": null,
   "metadata": {
    "id": "HBK34LE5jZjn"
   },
   "outputs": [
    {
     "data": {
      "text/html": [
       "<pre style=\"white-space:pre;overflow-x:auto;line-height:normal;font-family:Menlo,'DejaVu Sans Mono',consolas,'Courier New',monospace\"></pre>\n"
      ],
      "text/plain": []
     },
     "metadata": {},
     "output_type": "display_data"
    },
    {
     "name": "stdout",
     "output_type": "stream",
     "text": [
      "AnalogChain(t=693.492130864141, support=(<QubitSupportType.GLOBAL: 'global'>,))\n",
      "├── AnalogChain(t=160.484979153848, support=(<QubitSupportType.GLOBAL: 'global'>,))\n",
      "│   ├── ConstantAnalogRotation(α=t0, t=318.309886183791*t0, support=(<QubitSupportType.GLOBAL: 'global'>,), \n",
      "│   │   Ω=3.14159265358979, δ=0, φ=0)\n",
      "│   └── ConstantAnalogRotation(α=s0, t=318.309886183791*s0, support=(<QubitSupportType.GLOBAL: 'global'>,), Ω=0, \n",
      "│       δ=3.14159265358979, φ=0.0)\n",
      "└── AnalogChain(t=533.007151710293, support=(<QubitSupportType.GLOBAL: 'global'>,))\n",
      "    ├── ConstantAnalogRotation(α=t1, t=318.309886183791*t1, support=(<QubitSupportType.GLOBAL: 'global'>,), \n",
      "    │   Ω=3.14159265358979, δ=0, φ=0)\n",
      "    └── ConstantAnalogRotation(α=s1, t=318.309886183791*s1, support=(<QubitSupportType.GLOBAL: 'global'>,), Ω=0, \n",
      "        δ=3.14159265358979, φ=0.0)\n"
     ]
    },
    {
     "data": {
      "text/html": [
       "<pre style=\"white-space:pre;overflow-x:auto;line-height:normal;font-family:Menlo,'DejaVu Sans Mono',consolas,'Courier New',monospace\"><span style=\"color: #7fbfbf; text-decoration-color: #7fbfbf\">2025-03-09 11:18:16 </span><span style=\"color: #000080; text-decoration-color: #000080\">INFO    </span> Initializing Accelerator                                           <a href=\"file:///Users/arshkumar/miniforge3/envs/pasqal/lib/python3.12/site-packages/qadence/ml_tools/train_utils/distribution.py\" target=\"_blank\"><span style=\"color: #7f7f7f; text-decoration-color: #7f7f7f\">distribution.py</span></a><span style=\"color: #7f7f7f; text-decoration-color: #7f7f7f\">:</span><a href=\"file:///Users/arshkumar/miniforge3/envs/pasqal/lib/python3.12/site-packages/qadence/ml_tools/train_utils/distribution.py#108\" target=\"_blank\"><span style=\"color: #7f7f7f; text-decoration-color: #7f7f7f\">108</span></a>\n",
       "</pre>\n"
      ],
      "text/plain": [
       "\u001b[2;36m2025-03-09 11:18:16\u001b[0m\u001b[2;36m \u001b[0m\u001b[34mINFO    \u001b[0m Initializing Accelerator                                           \u001b]8;id=425584;file:///Users/arshkumar/miniforge3/envs/pasqal/lib/python3.12/site-packages/qadence/ml_tools/train_utils/distribution.py\u001b\\\u001b[2mdistribution.py\u001b[0m\u001b]8;;\u001b\\\u001b[2m:\u001b[0m\u001b]8;id=940945;file:///Users/arshkumar/miniforge3/envs/pasqal/lib/python3.12/site-packages/qadence/ml_tools/train_utils/distribution.py#108\u001b\\\u001b[2m108\u001b[0m\u001b]8;;\u001b\\\n"
      ]
     },
     "metadata": {},
     "output_type": "display_data"
    },
    {
     "data": {
      "text/html": [
       "<pre style=\"white-space:pre;overflow-x:auto;line-height:normal;font-family:Menlo,'DejaVu Sans Mono',consolas,'Courier New',monospace\"><span style=\"color: #7fbfbf; text-decoration-color: #7fbfbf\">                    </span><span style=\"color: #000080; text-decoration-color: #000080\">INFO    </span> =============================                                      <a href=\"file:///Users/arshkumar/miniforge3/envs/pasqal/lib/python3.12/site-packages/qadence/ml_tools/train_utils/distribution.py\" target=\"_blank\"><span style=\"color: #7f7f7f; text-decoration-color: #7f7f7f\">distribution.py</span></a><span style=\"color: #7f7f7f; text-decoration-color: #7f7f7f\">:</span><a href=\"file:///Users/arshkumar/miniforge3/envs/pasqal/lib/python3.12/site-packages/qadence/ml_tools/train_utils/distribution.py#109\" target=\"_blank\"><span style=\"color: #7f7f7f; text-decoration-color: #7f7f7f\">109</span></a>\n",
       "</pre>\n"
      ],
      "text/plain": [
       "\u001b[2;36m                   \u001b[0m\u001b[2;36m \u001b[0m\u001b[34mINFO    \u001b[0m =============================                                      \u001b]8;id=178654;file:///Users/arshkumar/miniforge3/envs/pasqal/lib/python3.12/site-packages/qadence/ml_tools/train_utils/distribution.py\u001b\\\u001b[2mdistribution.py\u001b[0m\u001b]8;;\u001b\\\u001b[2m:\u001b[0m\u001b]8;id=166494;file:///Users/arshkumar/miniforge3/envs/pasqal/lib/python3.12/site-packages/qadence/ml_tools/train_utils/distribution.py#109\u001b\\\u001b[2m109\u001b[0m\u001b]8;;\u001b\\\n"
      ]
     },
     "metadata": {},
     "output_type": "display_data"
    },
    {
     "data": {
      "text/html": [
       "<pre style=\"white-space:pre;overflow-x:auto;line-height:normal;font-family:Menlo,'DejaVu Sans Mono',consolas,'Courier New',monospace\"><span style=\"color: #7fbfbf; text-decoration-color: #7fbfbf\">                    </span><span style=\"color: #000080; text-decoration-color: #000080\">INFO    </span>  Node, Device                : Unknown, cpu                        <a href=\"file:///Users/arshkumar/miniforge3/envs/pasqal/lib/python3.12/site-packages/qadence/ml_tools/train_utils/distribution.py\" target=\"_blank\"><span style=\"color: #7f7f7f; text-decoration-color: #7f7f7f\">distribution.py</span></a><span style=\"color: #7f7f7f; text-decoration-color: #7f7f7f\">:</span><a href=\"file:///Users/arshkumar/miniforge3/envs/pasqal/lib/python3.12/site-packages/qadence/ml_tools/train_utils/distribution.py#110\" target=\"_blank\"><span style=\"color: #7f7f7f; text-decoration-color: #7f7f7f\">110</span></a>\n",
       "</pre>\n"
      ],
      "text/plain": [
       "\u001b[2;36m                   \u001b[0m\u001b[2;36m \u001b[0m\u001b[34mINFO    \u001b[0m  Node, Device                : Unknown, cpu                        \u001b]8;id=926597;file:///Users/arshkumar/miniforge3/envs/pasqal/lib/python3.12/site-packages/qadence/ml_tools/train_utils/distribution.py\u001b\\\u001b[2mdistribution.py\u001b[0m\u001b]8;;\u001b\\\u001b[2m:\u001b[0m\u001b]8;id=346904;file:///Users/arshkumar/miniforge3/envs/pasqal/lib/python3.12/site-packages/qadence/ml_tools/train_utils/distribution.py#110\u001b\\\u001b[2m110\u001b[0m\u001b]8;;\u001b\\\n"
      ]
     },
     "metadata": {},
     "output_type": "display_data"
    },
    {
     "data": {
      "text/html": [
       "<pre style=\"white-space:pre;overflow-x:auto;line-height:normal;font-family:Menlo,'DejaVu Sans Mono',consolas,'Courier New',monospace\"><span style=\"color: #7fbfbf; text-decoration-color: #7fbfbf\">                    </span><span style=\"color: #000080; text-decoration-color: #000080\">INFO    </span>  Rank, Local Rank, World Size: <span style=\"color: #008080; text-decoration-color: #008080; font-weight: bold\">0</span>, <span style=\"color: #800080; text-decoration-color: #800080; font-style: italic\">None</span>, <span style=\"color: #008080; text-decoration-color: #008080; font-weight: bold\">1</span>                          <a href=\"file:///Users/arshkumar/miniforge3/envs/pasqal/lib/python3.12/site-packages/qadence/ml_tools/train_utils/distribution.py\" target=\"_blank\"><span style=\"color: #7f7f7f; text-decoration-color: #7f7f7f\">distribution.py</span></a><span style=\"color: #7f7f7f; text-decoration-color: #7f7f7f\">:</span><a href=\"file:///Users/arshkumar/miniforge3/envs/pasqal/lib/python3.12/site-packages/qadence/ml_tools/train_utils/distribution.py#115\" target=\"_blank\"><span style=\"color: #7f7f7f; text-decoration-color: #7f7f7f\">115</span></a>\n",
       "</pre>\n"
      ],
      "text/plain": [
       "\u001b[2;36m                   \u001b[0m\u001b[2;36m \u001b[0m\u001b[34mINFO    \u001b[0m  Rank, Local Rank, World Size: \u001b[1;36m0\u001b[0m, \u001b[3;35mNone\u001b[0m, \u001b[1;36m1\u001b[0m                          \u001b]8;id=781717;file:///Users/arshkumar/miniforge3/envs/pasqal/lib/python3.12/site-packages/qadence/ml_tools/train_utils/distribution.py\u001b\\\u001b[2mdistribution.py\u001b[0m\u001b]8;;\u001b\\\u001b[2m:\u001b[0m\u001b]8;id=644902;file:///Users/arshkumar/miniforge3/envs/pasqal/lib/python3.12/site-packages/qadence/ml_tools/train_utils/distribution.py#115\u001b\\\u001b[2m115\u001b[0m\u001b]8;;\u001b\\\n"
      ]
     },
     "metadata": {},
     "output_type": "display_data"
    },
    {
     "data": {
      "text/html": [
       "<pre style=\"white-space:pre;overflow-x:auto;line-height:normal;font-family:Menlo,'DejaVu Sans Mono',consolas,'Courier New',monospace\"><span style=\"color: #7fbfbf; text-decoration-color: #7fbfbf\">                    </span><span style=\"color: #000080; text-decoration-color: #000080\">INFO    </span>  Master Address, Master Port : localhost, <span style=\"color: #008080; text-decoration-color: #008080; font-weight: bold\">10209</span>                    <a href=\"file:///Users/arshkumar/miniforge3/envs/pasqal/lib/python3.12/site-packages/qadence/ml_tools/train_utils/distribution.py\" target=\"_blank\"><span style=\"color: #7f7f7f; text-decoration-color: #7f7f7f\">distribution.py</span></a><span style=\"color: #7f7f7f; text-decoration-color: #7f7f7f\">:</span><a href=\"file:///Users/arshkumar/miniforge3/envs/pasqal/lib/python3.12/site-packages/qadence/ml_tools/train_utils/distribution.py#121\" target=\"_blank\"><span style=\"color: #7f7f7f; text-decoration-color: #7f7f7f\">121</span></a>\n",
       "</pre>\n"
      ],
      "text/plain": [
       "\u001b[2;36m                   \u001b[0m\u001b[2;36m \u001b[0m\u001b[34mINFO    \u001b[0m  Master Address, Master Port : localhost, \u001b[1;36m10209\u001b[0m                    \u001b]8;id=933613;file:///Users/arshkumar/miniforge3/envs/pasqal/lib/python3.12/site-packages/qadence/ml_tools/train_utils/distribution.py\u001b\\\u001b[2mdistribution.py\u001b[0m\u001b]8;;\u001b\\\u001b[2m:\u001b[0m\u001b]8;id=852984;file:///Users/arshkumar/miniforge3/envs/pasqal/lib/python3.12/site-packages/qadence/ml_tools/train_utils/distribution.py#121\u001b\\\u001b[2m121\u001b[0m\u001b]8;;\u001b\\\n"
      ]
     },
     "metadata": {},
     "output_type": "display_data"
    },
    {
     "data": {
      "text/html": [
       "<pre style=\"white-space:pre;overflow-x:auto;line-height:normal;font-family:Menlo,'DejaVu Sans Mono',consolas,'Courier New',monospace\"><span style=\"color: #7fbfbf; text-decoration-color: #7fbfbf\">                    </span><span style=\"color: #000080; text-decoration-color: #000080\">INFO    </span> User sepcifed `nprocs`=<span style=\"color: #008080; text-decoration-color: #008080; font-weight: bold\">1</span>                                           <a href=\"file:///Users/arshkumar/miniforge3/envs/pasqal/lib/python3.12/site-packages/qadence/ml_tools/train_utils/distribution.py\" target=\"_blank\"><span style=\"color: #7f7f7f; text-decoration-color: #7f7f7f\">distribution.py</span></a><span style=\"color: #7f7f7f; text-decoration-color: #7f7f7f\">:</span><a href=\"file:///Users/arshkumar/miniforge3/envs/pasqal/lib/python3.12/site-packages/qadence/ml_tools/train_utils/distribution.py#208\" target=\"_blank\"><span style=\"color: #7f7f7f; text-decoration-color: #7f7f7f\">208</span></a>\n",
       "</pre>\n"
      ],
      "text/plain": [
       "\u001b[2;36m                   \u001b[0m\u001b[2;36m \u001b[0m\u001b[34mINFO    \u001b[0m User sepcifed `nprocs`=\u001b[1;36m1\u001b[0m                                           \u001b]8;id=225226;file:///Users/arshkumar/miniforge3/envs/pasqal/lib/python3.12/site-packages/qadence/ml_tools/train_utils/distribution.py\u001b\\\u001b[2mdistribution.py\u001b[0m\u001b]8;;\u001b\\\u001b[2m:\u001b[0m\u001b]8;id=354259;file:///Users/arshkumar/miniforge3/envs/pasqal/lib/python3.12/site-packages/qadence/ml_tools/train_utils/distribution.py#208\u001b\\\u001b[2m208\u001b[0m\u001b]8;;\u001b\\\n"
      ]
     },
     "metadata": {},
     "output_type": "display_data"
    },
    {
     "data": {
      "text/html": [
       "<pre style=\"white-space:pre;overflow-x:auto;line-height:normal;font-family:Menlo,'DejaVu Sans Mono',consolas,'Courier New',monospace\"><span style=\"color: #7fbfbf; text-decoration-color: #7fbfbf\">                    </span><span style=\"color: #000080; text-decoration-color: #000080\">INFO    </span> Total processes <span style=\"color: #808000; text-decoration-color: #808000\">spawned</span>=<span style=\"color: #008080; text-decoration-color: #008080; font-weight: bold\">1</span>                                          <a href=\"file:///Users/arshkumar/miniforge3/envs/pasqal/lib/python3.12/site-packages/qadence/ml_tools/train_utils/distribution.py\" target=\"_blank\"><span style=\"color: #7f7f7f; text-decoration-color: #7f7f7f\">distribution.py</span></a><span style=\"color: #7f7f7f; text-decoration-color: #7f7f7f\">:</span><a href=\"file:///Users/arshkumar/miniforge3/envs/pasqal/lib/python3.12/site-packages/qadence/ml_tools/train_utils/distribution.py#209\" target=\"_blank\"><span style=\"color: #7f7f7f; text-decoration-color: #7f7f7f\">209</span></a>\n",
       "</pre>\n"
      ],
      "text/plain": [
       "\u001b[2;36m                   \u001b[0m\u001b[2;36m \u001b[0m\u001b[34mINFO    \u001b[0m Total processes \u001b[33mspawned\u001b[0m=\u001b[1;36m1\u001b[0m                                          \u001b]8;id=305403;file:///Users/arshkumar/miniforge3/envs/pasqal/lib/python3.12/site-packages/qadence/ml_tools/train_utils/distribution.py\u001b\\\u001b[2mdistribution.py\u001b[0m\u001b]8;;\u001b\\\u001b[2m:\u001b[0m\u001b]8;id=554822;file:///Users/arshkumar/miniforge3/envs/pasqal/lib/python3.12/site-packages/qadence/ml_tools/train_utils/distribution.py#209\u001b\\\u001b[2m209\u001b[0m\u001b]8;;\u001b\\\n"
      ]
     },
     "metadata": {},
     "output_type": "display_data"
    },
    {
     "data": {
      "text/html": [
       "<pre style=\"white-space:pre;overflow-x:auto;line-height:normal;font-family:Menlo,'DejaVu Sans Mono',consolas,'Courier New',monospace\">/Users/arshkumar/miniforge3/envs/pasqal/lib/python3.12/site-packages/rich/live.py:231: UserWarning: install \n",
       "\"ipywidgets\" for Jupyter support\n",
       "  warnings.warn('install \"ipywidgets\" for Jupyter support')\n",
       "</pre>\n"
      ],
      "text/plain": [
       "/Users/arshkumar/miniforge3/envs/pasqal/lib/python3.12/site-packages/rich/live.py:231: UserWarning: install \n",
       "\"ipywidgets\" for Jupyter support\n",
       "  warnings.warn('install \"ipywidgets\" for Jupyter support')\n"
      ]
     },
     "metadata": {},
     "output_type": "display_data"
    },
    {
     "data": {
      "text/html": [
       "<pre style=\"white-space:pre;overflow-x:auto;line-height:normal;font-family:Menlo,'DejaVu Sans Mono',consolas,'Courier New',monospace\">/Users/arshkumar/miniforge3/envs/pasqal/lib/python3.12/site-packages/rich/live.py:231: UserWarning: install \n",
       "\"ipywidgets\" for Jupyter support\n",
       "  warnings.warn('install \"ipywidgets\" for Jupyter support')\n",
       "</pre>\n"
      ],
      "text/plain": [
       "/Users/arshkumar/miniforge3/envs/pasqal/lib/python3.12/site-packages/rich/live.py:231: UserWarning: install \n",
       "\"ipywidgets\" for Jupyter support\n",
       "  warnings.warn('install \"ipywidgets\" for Jupyter support')\n"
      ]
     },
     "metadata": {},
     "output_type": "display_data"
    },
    {
     "data": {
      "text/html": [
       "<pre style=\"white-space:pre;overflow-x:auto;line-height:normal;font-family:Menlo,'DejaVu Sans Mono',consolas,'Courier New',monospace\">/Users/arshkumar/miniforge3/envs/pasqal/lib/python3.12/site-packages/rich/live.py:231: UserWarning: install \n",
       "\"ipywidgets\" for Jupyter support\n",
       "  warnings.warn('install \"ipywidgets\" for Jupyter support')\n",
       "</pre>\n"
      ],
      "text/plain": [
       "/Users/arshkumar/miniforge3/envs/pasqal/lib/python3.12/site-packages/rich/live.py:231: UserWarning: install \n",
       "\"ipywidgets\" for Jupyter support\n",
       "  warnings.warn('install \"ipywidgets\" for Jupyter support')\n"
      ]
     },
     "metadata": {},
     "output_type": "display_data"
    },
    {
     "data": {
      "text/html": [
       "<pre style=\"white-space:pre;overflow-x:auto;line-height:normal;font-family:Menlo,'DejaVu Sans Mono',consolas,'Courier New',monospace\">/Users/arshkumar/miniforge3/envs/pasqal/lib/python3.12/site-packages/rich/live.py:231: UserWarning: install \n",
       "\"ipywidgets\" for Jupyter support\n",
       "  warnings.warn('install \"ipywidgets\" for Jupyter support')\n",
       "</pre>\n"
      ],
      "text/plain": [
       "/Users/arshkumar/miniforge3/envs/pasqal/lib/python3.12/site-packages/rich/live.py:231: UserWarning: install \n",
       "\"ipywidgets\" for Jupyter support\n",
       "  warnings.warn('install \"ipywidgets\" for Jupyter support')\n"
      ]
     },
     "metadata": {},
     "output_type": "display_data"
    },
    {
     "data": {
      "text/html": [
       "<pre style=\"white-space:pre;overflow-x:auto;line-height:normal;font-family:Menlo,'DejaVu Sans Mono',consolas,'Courier New',monospace\">/Users/arshkumar/miniforge3/envs/pasqal/lib/python3.12/site-packages/rich/live.py:231: UserWarning: install \n",
       "\"ipywidgets\" for Jupyter support\n",
       "  warnings.warn('install \"ipywidgets\" for Jupyter support')\n",
       "</pre>\n"
      ],
      "text/plain": [
       "/Users/arshkumar/miniforge3/envs/pasqal/lib/python3.12/site-packages/rich/live.py:231: UserWarning: install \n",
       "\"ipywidgets\" for Jupyter support\n",
       "  warnings.warn('install \"ipywidgets\" for Jupyter support')\n"
      ]
     },
     "metadata": {},
     "output_type": "display_data"
    },
    {
     "data": {
      "text/html": [
       "<pre style=\"white-space:pre;overflow-x:auto;line-height:normal;font-family:Menlo,'DejaVu Sans Mono',consolas,'Courier New',monospace\">/Users/arshkumar/miniforge3/envs/pasqal/lib/python3.12/site-packages/rich/live.py:231: UserWarning: install \n",
       "\"ipywidgets\" for Jupyter support\n",
       "  warnings.warn('install \"ipywidgets\" for Jupyter support')\n",
       "</pre>\n"
      ],
      "text/plain": [
       "/Users/arshkumar/miniforge3/envs/pasqal/lib/python3.12/site-packages/rich/live.py:231: UserWarning: install \n",
       "\"ipywidgets\" for Jupyter support\n",
       "  warnings.warn('install \"ipywidgets\" for Jupyter support')\n"
      ]
     },
     "metadata": {},
     "output_type": "display_data"
    },
    {
     "data": {
      "text/html": [
       "<pre style=\"white-space:pre;overflow-x:auto;line-height:normal;font-family:Menlo,'DejaVu Sans Mono',consolas,'Courier New',monospace\">/Users/arshkumar/miniforge3/envs/pasqal/lib/python3.12/site-packages/rich/live.py:231: UserWarning: install \n",
       "\"ipywidgets\" for Jupyter support\n",
       "  warnings.warn('install \"ipywidgets\" for Jupyter support')\n",
       "</pre>\n"
      ],
      "text/plain": [
       "/Users/arshkumar/miniforge3/envs/pasqal/lib/python3.12/site-packages/rich/live.py:231: UserWarning: install \n",
       "\"ipywidgets\" for Jupyter support\n",
       "  warnings.warn('install \"ipywidgets\" for Jupyter support')\n"
      ]
     },
     "metadata": {},
     "output_type": "display_data"
    },
    {
     "data": {
      "text/html": [
       "<pre style=\"white-space:pre;overflow-x:auto;line-height:normal;font-family:Menlo,'DejaVu Sans Mono',consolas,'Courier New',monospace\">/Users/arshkumar/miniforge3/envs/pasqal/lib/python3.12/site-packages/rich/live.py:231: UserWarning: install \n",
       "\"ipywidgets\" for Jupyter support\n",
       "  warnings.warn('install \"ipywidgets\" for Jupyter support')\n",
       "</pre>\n"
      ],
      "text/plain": [
       "/Users/arshkumar/miniforge3/envs/pasqal/lib/python3.12/site-packages/rich/live.py:231: UserWarning: install \n",
       "\"ipywidgets\" for Jupyter support\n",
       "  warnings.warn('install \"ipywidgets\" for Jupyter support')\n"
      ]
     },
     "metadata": {},
     "output_type": "display_data"
    },
    {
     "data": {
      "text/html": [
       "<pre style=\"white-space:pre;overflow-x:auto;line-height:normal;font-family:Menlo,'DejaVu Sans Mono',consolas,'Courier New',monospace\">/Users/arshkumar/miniforge3/envs/pasqal/lib/python3.12/site-packages/rich/live.py:231: UserWarning: install \n",
       "\"ipywidgets\" for Jupyter support\n",
       "  warnings.warn('install \"ipywidgets\" for Jupyter support')\n",
       "</pre>\n"
      ],
      "text/plain": [
       "/Users/arshkumar/miniforge3/envs/pasqal/lib/python3.12/site-packages/rich/live.py:231: UserWarning: install \n",
       "\"ipywidgets\" for Jupyter support\n",
       "  warnings.warn('install \"ipywidgets\" for Jupyter support')\n"
      ]
     },
     "metadata": {},
     "output_type": "display_data"
    },
    {
     "data": {
      "text/html": [
       "<pre style=\"white-space:pre;overflow-x:auto;line-height:normal;font-family:Menlo,'DejaVu Sans Mono',consolas,'Courier New',monospace\">/Users/arshkumar/miniforge3/envs/pasqal/lib/python3.12/site-packages/rich/live.py:231: UserWarning: install \n",
       "\"ipywidgets\" for Jupyter support\n",
       "  warnings.warn('install \"ipywidgets\" for Jupyter support')\n",
       "</pre>\n"
      ],
      "text/plain": [
       "/Users/arshkumar/miniforge3/envs/pasqal/lib/python3.12/site-packages/rich/live.py:231: UserWarning: install \n",
       "\"ipywidgets\" for Jupyter support\n",
       "  warnings.warn('install \"ipywidgets\" for Jupyter support')\n"
      ]
     },
     "metadata": {},
     "output_type": "display_data"
    },
    {
     "data": {
      "text/html": [
       "<pre style=\"white-space:pre;overflow-x:auto;line-height:normal;font-family:Menlo,'DejaVu Sans Mono',consolas,'Courier New',monospace\">/Users/arshkumar/miniforge3/envs/pasqal/lib/python3.12/site-packages/rich/live.py:231: UserWarning: install \n",
       "\"ipywidgets\" for Jupyter support\n",
       "  warnings.warn('install \"ipywidgets\" for Jupyter support')\n",
       "</pre>\n"
      ],
      "text/plain": [
       "/Users/arshkumar/miniforge3/envs/pasqal/lib/python3.12/site-packages/rich/live.py:231: UserWarning: install \n",
       "\"ipywidgets\" for Jupyter support\n",
       "  warnings.warn('install \"ipywidgets\" for Jupyter support')\n"
      ]
     },
     "metadata": {},
     "output_type": "display_data"
    },
    {
     "data": {
      "text/html": [
       "<pre style=\"white-space:pre;overflow-x:auto;line-height:normal;font-family:Menlo,'DejaVu Sans Mono',consolas,'Courier New',monospace\">/Users/arshkumar/miniforge3/envs/pasqal/lib/python3.12/site-packages/rich/live.py:231: UserWarning: install \n",
       "\"ipywidgets\" for Jupyter support\n",
       "  warnings.warn('install \"ipywidgets\" for Jupyter support')\n",
       "</pre>\n"
      ],
      "text/plain": [
       "/Users/arshkumar/miniforge3/envs/pasqal/lib/python3.12/site-packages/rich/live.py:231: UserWarning: install \n",
       "\"ipywidgets\" for Jupyter support\n",
       "  warnings.warn('install \"ipywidgets\" for Jupyter support')\n"
      ]
     },
     "metadata": {},
     "output_type": "display_data"
    },
    {
     "data": {
      "text/html": [
       "<pre style=\"white-space:pre;overflow-x:auto;line-height:normal;font-family:Menlo,'DejaVu Sans Mono',consolas,'Courier New',monospace\"></pre>\n"
      ],
      "text/plain": []
     },
     "metadata": {},
     "output_type": "display_data"
    },
    {
     "name": "stderr",
     "output_type": "stream",
     "text": [
      "/Users/arshkumar/miniforge3/envs/pasqal/lib/python3.12/site-packages/networkx/readwrite/json_graph/node_link.py:142: FutureWarning: \n",
      "The default value will be `edges=\"edges\" in NetworkX 3.6.\n",
      "\n",
      "To make this warning go away, explicitly set the edges kwarg, e.g.:\n",
      "\n",
      "  nx.node_link_data(G, edges=\"links\") to preserve current behavior, or\n",
      "  nx.node_link_data(G, edges=\"edges\") for forward compatibility.\n",
      "  warnings.warn(\n"
     ]
    },
    {
     "data": {
      "text/html": [
       "<pre style=\"white-space:pre;overflow-x:auto;line-height:normal;font-family:Menlo,'DejaVu Sans Mono',consolas,'Courier New',monospace\"><span style=\"color: #7fbfbf; text-decoration-color: #7fbfbf\">2025-03-09 11:18:28 </span><span style=\"color: #000080; text-decoration-color: #000080\">INFO    </span> Writing QuantumModel checkpoint                                        <a href=\"file:///Users/arshkumar/miniforge3/envs/pasqal/lib/python3.12/site-packages/qadence/ml_tools/callbacks/saveload.py\" target=\"_blank\"><span style=\"color: #7f7f7f; text-decoration-color: #7f7f7f\">saveload.py</span></a><span style=\"color: #7f7f7f; text-decoration-color: #7f7f7f\">:</span><a href=\"file:///Users/arshkumar/miniforge3/envs/pasqal/lib/python3.12/site-packages/qadence/ml_tools/callbacks/saveload.py#106\" target=\"_blank\"><span style=\"color: #7f7f7f; text-decoration-color: #7f7f7f\">106</span></a>\n",
       "<span style=\"color: #7fbfbf; text-decoration-color: #7fbfbf\">                    </span>         model_QuantumModel_ckpt_100_device_cpu.pt                              <span style=\"color: #7f7f7f; text-decoration-color: #7f7f7f\">               </span>\n",
       "</pre>\n"
      ],
      "text/plain": [
       "\u001b[2;36m2025-03-09 11:18:28\u001b[0m\u001b[2;36m \u001b[0m\u001b[34mINFO    \u001b[0m Writing QuantumModel checkpoint                                        \u001b]8;id=779420;file:///Users/arshkumar/miniforge3/envs/pasqal/lib/python3.12/site-packages/qadence/ml_tools/callbacks/saveload.py\u001b\\\u001b[2msaveload.py\u001b[0m\u001b]8;;\u001b\\\u001b[2m:\u001b[0m\u001b]8;id=714709;file:///Users/arshkumar/miniforge3/envs/pasqal/lib/python3.12/site-packages/qadence/ml_tools/callbacks/saveload.py#106\u001b\\\u001b[2m106\u001b[0m\u001b]8;;\u001b\\\n",
       "\u001b[2;36m                    \u001b[0m         model_QuantumModel_ckpt_100_device_cpu.pt                              \u001b[2m               \u001b[0m\n"
      ]
     },
     "metadata": {},
     "output_type": "display_data"
    },
    {
     "data": {
      "text/html": [
       "<pre style=\"white-space:pre;overflow-x:auto;line-height:normal;font-family:Menlo,'DejaVu Sans Mono',consolas,'Courier New',monospace\"><span style=\"color: #7fbfbf; text-decoration-color: #7fbfbf\">                    </span><span style=\"color: #000080; text-decoration-color: #000080\">INFO    </span> Writing NGOpt to checkpoint opt_NGOpt_ckpt_100_device_cpu.pt           <a href=\"file:///Users/arshkumar/miniforge3/envs/pasqal/lib/python3.12/site-packages/qadence/ml_tools/callbacks/saveload.py\" target=\"_blank\"><span style=\"color: #7f7f7f; text-decoration-color: #7f7f7f\">saveload.py</span></a><span style=\"color: #7f7f7f; text-decoration-color: #7f7f7f\">:</span><a href=\"file:///Users/arshkumar/miniforge3/envs/pasqal/lib/python3.12/site-packages/qadence/ml_tools/callbacks/saveload.py#116\" target=\"_blank\"><span style=\"color: #7f7f7f; text-decoration-color: #7f7f7f\">116</span></a>\n",
       "</pre>\n"
      ],
      "text/plain": [
       "\u001b[2;36m                   \u001b[0m\u001b[2;36m \u001b[0m\u001b[34mINFO    \u001b[0m Writing NGOpt to checkpoint opt_NGOpt_ckpt_100_device_cpu.pt           \u001b]8;id=540059;file:///Users/arshkumar/miniforge3/envs/pasqal/lib/python3.12/site-packages/qadence/ml_tools/callbacks/saveload.py\u001b\\\u001b[2msaveload.py\u001b[0m\u001b]8;;\u001b\\\u001b[2m:\u001b[0m\u001b]8;id=772574;file:///Users/arshkumar/miniforge3/envs/pasqal/lib/python3.12/site-packages/qadence/ml_tools/callbacks/saveload.py#116\u001b\\\u001b[2m116\u001b[0m\u001b]8;;\u001b\\\n"
      ]
     },
     "metadata": {},
     "output_type": "display_data"
    },
    {
     "name": "stderr",
     "output_type": "stream",
     "text": [
      "/Users/arshkumar/MyPython/Pasqal_Hackathon_Feb25_Team_04-Henry/XBK_method.py:139: FutureWarning: Calling int on a single element Series is deprecated and will raise a TypeError in the future. Use int(ser.iloc[0]) instead\n",
      "  index = int(solutions[['energy']].idxmin())\n"
     ]
    },
    {
     "name": "stdout",
     "output_type": "stream",
     "text": [
      "{'auxs2,s1': 0, 'auxs3,s0': 0, 's3': 0, 's0': 0, 's2': 0, 's2*s1': 1, 's3*s0': 0, 's1': 0}\n",
      "{'auxs2,s1': 0, 'auxs3,s0': 0, 's3': 0, 's0': 0, 's2': 1, 's2*s1': 0, 's3*s0': 0, 's1': 0}\n",
      "{'auxs2,s1': 0, 'auxs3,s0': 0, 's3': 0, 's0': 0, 's2': 1, 's2*s1': 0, 's3*s0': 0, 's1': 1}\n",
      "{'auxs2,s1': 0, 'auxs3,s0': 0, 's3': 0, 's0': 0, 's2': 1, 's2*s1': 0, 's3*s0': 1, 's1': 0}\n",
      "{'auxs2,s1': 0, 'auxs3,s0': 0, 's3': 0, 's0': 0, 's2': 1, 's2*s1': 1, 's3*s0': 0, 's1': 0}\n",
      "{'auxs2,s1': 0, 'auxs3,s0': 0, 's3': 0, 's0': 1, 's2': 0, 's2*s1': 0, 's3*s0': 0, 's1': 0}\n",
      "{'auxs2,s1': 0, 'auxs3,s0': 0, 's3': 0, 's0': 1, 's2': 0, 's2*s1': 0, 's3*s0': 0, 's1': 1}\n",
      "{'auxs2,s1': 0, 'auxs3,s0': 0, 's3': 0, 's0': 1, 's2': 0, 's2*s1': 0, 's3*s0': 1, 's1': 0}\n",
      "{'auxs2,s1': 0, 'auxs3,s0': 0, 's3': 0, 's0': 1, 's2': 0, 's2*s1': 1, 's3*s0': 0, 's1': 0}\n",
      "{'auxs2,s1': 0, 'auxs3,s0': 0, 's3': 0, 's0': 1, 's2': 1, 's2*s1': 0, 's3*s0': 0, 's1': 0}\n",
      "{'auxs2,s1': 0, 'auxs3,s0': 0, 's3': 0, 's0': 1, 's2': 1, 's2*s1': 0, 's3*s0': 0, 's1': 1}\n",
      "{'auxs2,s1': 0, 'auxs3,s0': 0, 's3': 0, 's0': 1, 's2': 1, 's2*s1': 0, 's3*s0': 1, 's1': 0}\n",
      "{'auxs2,s1': 0, 'auxs3,s0': 0, 's3': 0, 's0': 1, 's2': 1, 's2*s1': 1, 's3*s0': 0, 's1': 0}\n",
      "{'auxs2,s1': 0, 'auxs3,s0': 0, 's3': 0, 's0': 1, 's2': 1, 's2*s1': 1, 's3*s0': 1, 's1': 0}\n",
      "{'auxs2,s1': 0, 'auxs3,s0': 0, 's3': 1, 's0': 0, 's2': 0, 's2*s1': 0, 's3*s0': 0, 's1': 0}\n",
      "{'auxs2,s1': 0, 'auxs3,s0': 0, 's3': 1, 's0': 0, 's2': 0, 's2*s1': 0, 's3*s0': 0, 's1': 1}\n",
      "{'auxs2,s1': 0, 'auxs3,s0': 0, 's3': 1, 's0': 0, 's2': 1, 's2*s1': 0, 's3*s0': 0, 's1': 0}\n",
      "{'auxs2,s1': 0, 'auxs3,s0': 0, 's3': 1, 's0': 0, 's2': 1, 's2*s1': 0, 's3*s0': 0, 's1': 1}\n",
      "{'auxs2,s1': 0, 'auxs3,s0': 0, 's3': 1, 's0': 0, 's2': 1, 's2*s1': 1, 's3*s0': 0, 's1': 0}\n",
      "{'auxs2,s1': 0, 'auxs3,s0': 0, 's3': 1, 's0': 1, 's2': 0, 's2*s1': 0, 's3*s0': 0, 's1': 0}\n",
      "{'auxs2,s1': 0, 'auxs3,s0': 0, 's3': 1, 's0': 1, 's2': 0, 's2*s1': 0, 's3*s0': 0, 's1': 1}\n",
      "{'auxs2,s1': 0, 'auxs3,s0': 0, 's3': 1, 's0': 1, 's2': 0, 's2*s1': 1, 's3*s0': 0, 's1': 0}\n",
      "{'auxs2,s1': 0, 'auxs3,s0': 0, 's3': 1, 's0': 1, 's2': 1, 's2*s1': 0, 's3*s0': 0, 's1': 0}\n",
      "{'auxs2,s1': 0, 'auxs3,s0': 0, 's3': 1, 's0': 1, 's2': 1, 's2*s1': 0, 's3*s0': 0, 's1': 1}\n",
      "{'auxs2,s1': 0, 'auxs3,s0': 0, 's3': 1, 's0': 1, 's2': 1, 's2*s1': 1, 's3*s0': 0, 's1': 0}\n",
      "{'auxs2,s1': 0, 'auxs3,s0': 1, 's3': 0, 's0': 0, 's2': 0, 's2*s1': 1, 's3*s0': 0, 's1': 0}\n",
      "{'auxs2,s1': 0, 'auxs3,s0': 1, 's3': 0, 's0': 0, 's2': 1, 's2*s1': 0, 's3*s0': 0, 's1': 0}\n",
      "{'auxs2,s1': 0, 'auxs3,s0': 1, 's3': 0, 's0': 0, 's2': 1, 's2*s1': 1, 's3*s0': 0, 's1': 0}\n",
      "{'auxs2,s1': 0, 'auxs3,s0': 1, 's3': 0, 's0': 1, 's2': 0, 's2*s1': 0, 's3*s0': 0, 's1': 0}\n",
      "{'auxs2,s1': 0, 'auxs3,s0': 1, 's3': 0, 's0': 1, 's2': 0, 's2*s1': 1, 's3*s0': 0, 's1': 0}\n",
      "{'auxs2,s1': 0, 'auxs3,s0': 1, 's3': 0, 's0': 1, 's2': 1, 's2*s1': 0, 's3*s0': 0, 's1': 0}\n",
      "{'auxs2,s1': 0, 'auxs3,s0': 1, 's3': 0, 's0': 1, 's2': 1, 's2*s1': 0, 's3*s0': 0, 's1': 1}\n",
      "{'auxs2,s1': 0, 'auxs3,s0': 1, 's3': 0, 's0': 1, 's2': 1, 's2*s1': 1, 's3*s0': 0, 's1': 0}\n",
      "{'auxs2,s1': 0, 'auxs3,s0': 1, 's3': 1, 's0': 1, 's2': 0, 's2*s1': 0, 's3*s0': 0, 's1': 1}\n",
      "{'auxs2,s1': 1, 'auxs3,s0': 0, 's3': 0, 's0': 0, 's2': 0, 's2*s1': 0, 's3*s0': 0, 's1': 0}\n",
      "{'auxs2,s1': 1, 'auxs3,s0': 0, 's3': 0, 's0': 0, 's2': 1, 's2*s1': 0, 's3*s0': 0, 's1': 0}\n",
      "{'auxs2,s1': 1, 'auxs3,s0': 0, 's3': 0, 's0': 1, 's2': 0, 's2*s1': 0, 's3*s0': 0, 's1': 0}\n",
      "{'auxs2,s1': 1, 'auxs3,s0': 0, 's3': 0, 's0': 1, 's2': 1, 's2*s1': 0, 's3*s0': 0, 's1': 0}\n",
      "                                               sample        energy\n",
      "0   {'auxs2,s1': 0, 'auxs3,s0': 0, 's3': 0, 's0': ...  12993.478120\n",
      "1   {'auxs2,s1': 0, 'auxs3,s0': 0, 's3': 0, 's0': ...  13014.285160\n",
      "2   {'auxs2,s1': 0, 'auxs3,s0': 0, 's3': 0, 's0': ...  12068.588158\n",
      "3   {'auxs2,s1': 0, 'auxs3,s0': 0, 's3': 0, 's0': ...   8008.526165\n",
      "4   {'auxs2,s1': 0, 'auxs3,s0': 0, 's3': 0, 's0': ...  11989.311006\n",
      "5   {'auxs2,s1': 0, 'auxs3,s0': 0, 's3': 0, 's0': ...  13014.351941\n",
      "6   {'auxs2,s1': 0, 'auxs3,s0': 0, 's3': 0, 's0': ...   7989.283999\n",
      "7   {'auxs2,s1': 0, 'auxs3,s0': 0, 's3': 0, 's0': ...  12029.493774\n",
      "8   {'auxs2,s1': 0, 'auxs3,s0': 0, 's3': 0, 's0': ...   8047.847899\n",
      "9   {'auxs2,s1': 0, 'auxs3,s0': 0, 's3': 0, 's0': ...   7989.283999\n",
      "10  {'auxs2,s1': 0, 'auxs3,s0': 0, 's3': 0, 's0': ...   7022.686170\n",
      "11  {'auxs2,s1': 0, 'auxs3,s0': 0, 's3': 0, 's0': ...   6983.525005\n",
      "12  {'auxs2,s1': 0, 'auxs3,s0': 0, 's3': 0, 's0': ...   7022.779957\n",
      "13  {'auxs2,s1': 0, 'auxs3,s0': 0, 's3': 0, 's0': ...   6037.734215\n",
      "14  {'auxs2,s1': 0, 'auxs3,s0': 0, 's3': 1, 's0': ...  13033.594107\n",
      "15  {'auxs2,s1': 0, 'auxs3,s0': 0, 's3': 1, 's0': ...   8008.526165\n",
      "16  {'auxs2,s1': 0, 'auxs3,s0': 0, 's3': 1, 's0': ...   7969.047236\n",
      "17  {'auxs2,s1': 0, 'auxs3,s0': 0, 's3': 1, 's0': ...   7002.449406\n",
      "18  {'auxs2,s1': 0, 'auxs3,s0': 0, 's3': 1, 's0': ...   6964.786334\n",
      "19  {'auxs2,s1': 0, 'auxs3,s0': 0, 's3': 1, 's0': ...  12050.362672\n",
      "20  {'auxs2,s1': 0, 'auxs3,s0': 0, 's3': 1, 's0': ...   7004.393902\n",
      "21  {'auxs2,s1': 0, 'auxs3,s0': 0, 's3': 1, 's0': ...   7104.571882\n",
      "22  {'auxs2,s1': 0, 'auxs3,s0': 0, 's3': 1, 's0': ...   6964.914973\n",
      "23  {'auxs2,s1': 0, 'auxs3,s0': 0, 's3': 1, 's0': ...   5977.416316\n",
      "24  {'auxs2,s1': 0, 'auxs3,s0': 0, 's3': 1, 's0': ...   6019.124184\n",
      "25  {'auxs2,s1': 0, 'auxs3,s0': 1, 's3': 0, 's0': ...   4993.478120\n",
      "26  {'auxs2,s1': 0, 'auxs3,s0': 1, 's3': 0, 's0': ...   5014.285160\n",
      "27  {'auxs2,s1': 0, 'auxs3,s0': 1, 's3': 0, 's0': ...   3989.311006\n",
      "28  {'auxs2,s1': 0, 'auxs3,s0': 1, 's3': 0, 's0': ...  13014.351941\n",
      "29  {'auxs2,s1': 0, 'auxs3,s0': 1, 's3': 0, 's0': ...   8047.847899\n",
      "30  {'auxs2,s1': 0, 'auxs3,s0': 1, 's3': 0, 's0': ...   7989.283999\n",
      "31  {'auxs2,s1': 0, 'auxs3,s0': 1, 's3': 0, 's0': ...   7022.686170\n",
      "32  {'auxs2,s1': 0, 'auxs3,s0': 1, 's3': 0, 's0': ...   7022.779957\n",
      "33  {'auxs2,s1': 0, 'auxs3,s0': 1, 's3': 1, 's0': ...  15004.393902\n",
      "34  {'auxs2,s1': 1, 'auxs3,s0': 0, 's3': 0, 's0': ...  10018.452274\n",
      "35  {'auxs2,s1': 1, 'auxs3,s0': 0, 's3': 0, 's0': ...  13014.285160\n",
      "36  {'auxs2,s1': 1, 'auxs3,s0': 0, 's3': 0, 's0': ...   5014.351941\n",
      "37  {'auxs2,s1': 1, 'auxs3,s0': 0, 's3': 0, 's0': ...   7989.283999\n",
      "{'auxs2,s1': 0, 'auxs3,s0': 1, 's3': 0, 's0': 0, 's2': 1, 's2*s1': 1, 's3*s0': 0, 's1': 0}\n"
     ]
    },
    {
     "data": {
      "text/html": [
       "<pre style=\"white-space:pre;overflow-x:auto;line-height:normal;font-family:Menlo,'DejaVu Sans Mono',consolas,'Courier New',monospace\"></pre>\n"
      ],
      "text/plain": []
     },
     "metadata": {},
     "output_type": "display_data"
    },
    {
     "name": "stdout",
     "output_type": "stream",
     "text": [
      "AnalogChain(t=521.410787878977, support=(<QubitSupportType.GLOBAL: 'global'>,))\n",
      "├── AnalogChain(t=385.245443916442, support=(<QubitSupportType.GLOBAL: 'global'>,))\n",
      "│   ├── ConstantAnalogRotation(α=t0, t=318.309886183791*t0, support=(<QubitSupportType.GLOBAL: 'global'>,), \n",
      "│   │   Ω=3.14159265358979, δ=0, φ=0)\n",
      "│   └── ConstantAnalogRotation(α=s0, t=318.309886183791*s0, support=(<QubitSupportType.GLOBAL: 'global'>,), Ω=0, \n",
      "│       δ=3.14159265358979, φ=0.0)\n",
      "└── AnalogChain(t=136.165343962534, support=(<QubitSupportType.GLOBAL: 'global'>,))\n",
      "    ├── ConstantAnalogRotation(α=t1, t=318.309886183791*t1, support=(<QubitSupportType.GLOBAL: 'global'>,), \n",
      "    │   Ω=3.14159265358979, δ=0, φ=0)\n",
      "    └── ConstantAnalogRotation(α=s1, t=318.309886183791*s1, support=(<QubitSupportType.GLOBAL: 'global'>,), Ω=0, \n",
      "        δ=3.14159265358979, φ=0.0)\n"
     ]
    },
    {
     "data": {
      "text/html": [
       "<pre style=\"white-space:pre;overflow-x:auto;line-height:normal;font-family:Menlo,'DejaVu Sans Mono',consolas,'Courier New',monospace\"><span style=\"color: #7fbfbf; text-decoration-color: #7fbfbf\">2025-03-09 11:18:29 </span><span style=\"color: #000080; text-decoration-color: #000080\">INFO    </span> Initializing Accelerator                                           <a href=\"file:///Users/arshkumar/miniforge3/envs/pasqal/lib/python3.12/site-packages/qadence/ml_tools/train_utils/distribution.py\" target=\"_blank\"><span style=\"color: #7f7f7f; text-decoration-color: #7f7f7f\">distribution.py</span></a><span style=\"color: #7f7f7f; text-decoration-color: #7f7f7f\">:</span><a href=\"file:///Users/arshkumar/miniforge3/envs/pasqal/lib/python3.12/site-packages/qadence/ml_tools/train_utils/distribution.py#108\" target=\"_blank\"><span style=\"color: #7f7f7f; text-decoration-color: #7f7f7f\">108</span></a>\n",
       "</pre>\n"
      ],
      "text/plain": [
       "\u001b[2;36m2025-03-09 11:18:29\u001b[0m\u001b[2;36m \u001b[0m\u001b[34mINFO    \u001b[0m Initializing Accelerator                                           \u001b]8;id=346869;file:///Users/arshkumar/miniforge3/envs/pasqal/lib/python3.12/site-packages/qadence/ml_tools/train_utils/distribution.py\u001b\\\u001b[2mdistribution.py\u001b[0m\u001b]8;;\u001b\\\u001b[2m:\u001b[0m\u001b]8;id=467404;file:///Users/arshkumar/miniforge3/envs/pasqal/lib/python3.12/site-packages/qadence/ml_tools/train_utils/distribution.py#108\u001b\\\u001b[2m108\u001b[0m\u001b]8;;\u001b\\\n"
      ]
     },
     "metadata": {},
     "output_type": "display_data"
    },
    {
     "data": {
      "text/html": [
       "<pre style=\"white-space:pre;overflow-x:auto;line-height:normal;font-family:Menlo,'DejaVu Sans Mono',consolas,'Courier New',monospace\"><span style=\"color: #7fbfbf; text-decoration-color: #7fbfbf\">                    </span><span style=\"color: #000080; text-decoration-color: #000080\">INFO    </span> =============================                                      <a href=\"file:///Users/arshkumar/miniforge3/envs/pasqal/lib/python3.12/site-packages/qadence/ml_tools/train_utils/distribution.py\" target=\"_blank\"><span style=\"color: #7f7f7f; text-decoration-color: #7f7f7f\">distribution.py</span></a><span style=\"color: #7f7f7f; text-decoration-color: #7f7f7f\">:</span><a href=\"file:///Users/arshkumar/miniforge3/envs/pasqal/lib/python3.12/site-packages/qadence/ml_tools/train_utils/distribution.py#109\" target=\"_blank\"><span style=\"color: #7f7f7f; text-decoration-color: #7f7f7f\">109</span></a>\n",
       "</pre>\n"
      ],
      "text/plain": [
       "\u001b[2;36m                   \u001b[0m\u001b[2;36m \u001b[0m\u001b[34mINFO    \u001b[0m =============================                                      \u001b]8;id=980472;file:///Users/arshkumar/miniforge3/envs/pasqal/lib/python3.12/site-packages/qadence/ml_tools/train_utils/distribution.py\u001b\\\u001b[2mdistribution.py\u001b[0m\u001b]8;;\u001b\\\u001b[2m:\u001b[0m\u001b]8;id=748424;file:///Users/arshkumar/miniforge3/envs/pasqal/lib/python3.12/site-packages/qadence/ml_tools/train_utils/distribution.py#109\u001b\\\u001b[2m109\u001b[0m\u001b]8;;\u001b\\\n"
      ]
     },
     "metadata": {},
     "output_type": "display_data"
    },
    {
     "data": {
      "text/html": [
       "<pre style=\"white-space:pre;overflow-x:auto;line-height:normal;font-family:Menlo,'DejaVu Sans Mono',consolas,'Courier New',monospace\"><span style=\"color: #7fbfbf; text-decoration-color: #7fbfbf\">                    </span><span style=\"color: #000080; text-decoration-color: #000080\">INFO    </span>  Node, Device                : Unknown, cpu                        <a href=\"file:///Users/arshkumar/miniforge3/envs/pasqal/lib/python3.12/site-packages/qadence/ml_tools/train_utils/distribution.py\" target=\"_blank\"><span style=\"color: #7f7f7f; text-decoration-color: #7f7f7f\">distribution.py</span></a><span style=\"color: #7f7f7f; text-decoration-color: #7f7f7f\">:</span><a href=\"file:///Users/arshkumar/miniforge3/envs/pasqal/lib/python3.12/site-packages/qadence/ml_tools/train_utils/distribution.py#110\" target=\"_blank\"><span style=\"color: #7f7f7f; text-decoration-color: #7f7f7f\">110</span></a>\n",
       "</pre>\n"
      ],
      "text/plain": [
       "\u001b[2;36m                   \u001b[0m\u001b[2;36m \u001b[0m\u001b[34mINFO    \u001b[0m  Node, Device                : Unknown, cpu                        \u001b]8;id=195391;file:///Users/arshkumar/miniforge3/envs/pasqal/lib/python3.12/site-packages/qadence/ml_tools/train_utils/distribution.py\u001b\\\u001b[2mdistribution.py\u001b[0m\u001b]8;;\u001b\\\u001b[2m:\u001b[0m\u001b]8;id=50710;file:///Users/arshkumar/miniforge3/envs/pasqal/lib/python3.12/site-packages/qadence/ml_tools/train_utils/distribution.py#110\u001b\\\u001b[2m110\u001b[0m\u001b]8;;\u001b\\\n"
      ]
     },
     "metadata": {},
     "output_type": "display_data"
    },
    {
     "data": {
      "text/html": [
       "<pre style=\"white-space:pre;overflow-x:auto;line-height:normal;font-family:Menlo,'DejaVu Sans Mono',consolas,'Courier New',monospace\"><span style=\"color: #7fbfbf; text-decoration-color: #7fbfbf\">                    </span><span style=\"color: #000080; text-decoration-color: #000080\">INFO    </span>  Rank, Local Rank, World Size: <span style=\"color: #008080; text-decoration-color: #008080; font-weight: bold\">0</span>, <span style=\"color: #800080; text-decoration-color: #800080; font-style: italic\">None</span>, <span style=\"color: #008080; text-decoration-color: #008080; font-weight: bold\">1</span>                          <a href=\"file:///Users/arshkumar/miniforge3/envs/pasqal/lib/python3.12/site-packages/qadence/ml_tools/train_utils/distribution.py\" target=\"_blank\"><span style=\"color: #7f7f7f; text-decoration-color: #7f7f7f\">distribution.py</span></a><span style=\"color: #7f7f7f; text-decoration-color: #7f7f7f\">:</span><a href=\"file:///Users/arshkumar/miniforge3/envs/pasqal/lib/python3.12/site-packages/qadence/ml_tools/train_utils/distribution.py#115\" target=\"_blank\"><span style=\"color: #7f7f7f; text-decoration-color: #7f7f7f\">115</span></a>\n",
       "</pre>\n"
      ],
      "text/plain": [
       "\u001b[2;36m                   \u001b[0m\u001b[2;36m \u001b[0m\u001b[34mINFO    \u001b[0m  Rank, Local Rank, World Size: \u001b[1;36m0\u001b[0m, \u001b[3;35mNone\u001b[0m, \u001b[1;36m1\u001b[0m                          \u001b]8;id=29643;file:///Users/arshkumar/miniforge3/envs/pasqal/lib/python3.12/site-packages/qadence/ml_tools/train_utils/distribution.py\u001b\\\u001b[2mdistribution.py\u001b[0m\u001b]8;;\u001b\\\u001b[2m:\u001b[0m\u001b]8;id=660395;file:///Users/arshkumar/miniforge3/envs/pasqal/lib/python3.12/site-packages/qadence/ml_tools/train_utils/distribution.py#115\u001b\\\u001b[2m115\u001b[0m\u001b]8;;\u001b\\\n"
      ]
     },
     "metadata": {},
     "output_type": "display_data"
    },
    {
     "data": {
      "text/html": [
       "<pre style=\"white-space:pre;overflow-x:auto;line-height:normal;font-family:Menlo,'DejaVu Sans Mono',consolas,'Courier New',monospace\"><span style=\"color: #7fbfbf; text-decoration-color: #7fbfbf\">                    </span><span style=\"color: #000080; text-decoration-color: #000080\">INFO    </span>  Master Address, Master Port : localhost, <span style=\"color: #008080; text-decoration-color: #008080; font-weight: bold\">10209</span>                    <a href=\"file:///Users/arshkumar/miniforge3/envs/pasqal/lib/python3.12/site-packages/qadence/ml_tools/train_utils/distribution.py\" target=\"_blank\"><span style=\"color: #7f7f7f; text-decoration-color: #7f7f7f\">distribution.py</span></a><span style=\"color: #7f7f7f; text-decoration-color: #7f7f7f\">:</span><a href=\"file:///Users/arshkumar/miniforge3/envs/pasqal/lib/python3.12/site-packages/qadence/ml_tools/train_utils/distribution.py#121\" target=\"_blank\"><span style=\"color: #7f7f7f; text-decoration-color: #7f7f7f\">121</span></a>\n",
       "</pre>\n"
      ],
      "text/plain": [
       "\u001b[2;36m                   \u001b[0m\u001b[2;36m \u001b[0m\u001b[34mINFO    \u001b[0m  Master Address, Master Port : localhost, \u001b[1;36m10209\u001b[0m                    \u001b]8;id=738911;file:///Users/arshkumar/miniforge3/envs/pasqal/lib/python3.12/site-packages/qadence/ml_tools/train_utils/distribution.py\u001b\\\u001b[2mdistribution.py\u001b[0m\u001b]8;;\u001b\\\u001b[2m:\u001b[0m\u001b]8;id=959293;file:///Users/arshkumar/miniforge3/envs/pasqal/lib/python3.12/site-packages/qadence/ml_tools/train_utils/distribution.py#121\u001b\\\u001b[2m121\u001b[0m\u001b]8;;\u001b\\\n"
      ]
     },
     "metadata": {},
     "output_type": "display_data"
    },
    {
     "data": {
      "text/html": [
       "<pre style=\"white-space:pre;overflow-x:auto;line-height:normal;font-family:Menlo,'DejaVu Sans Mono',consolas,'Courier New',monospace\"><span style=\"color: #7fbfbf; text-decoration-color: #7fbfbf\">                    </span><span style=\"color: #000080; text-decoration-color: #000080\">INFO    </span> User sepcifed `nprocs`=<span style=\"color: #008080; text-decoration-color: #008080; font-weight: bold\">1</span>                                           <a href=\"file:///Users/arshkumar/miniforge3/envs/pasqal/lib/python3.12/site-packages/qadence/ml_tools/train_utils/distribution.py\" target=\"_blank\"><span style=\"color: #7f7f7f; text-decoration-color: #7f7f7f\">distribution.py</span></a><span style=\"color: #7f7f7f; text-decoration-color: #7f7f7f\">:</span><a href=\"file:///Users/arshkumar/miniforge3/envs/pasqal/lib/python3.12/site-packages/qadence/ml_tools/train_utils/distribution.py#208\" target=\"_blank\"><span style=\"color: #7f7f7f; text-decoration-color: #7f7f7f\">208</span></a>\n",
       "</pre>\n"
      ],
      "text/plain": [
       "\u001b[2;36m                   \u001b[0m\u001b[2;36m \u001b[0m\u001b[34mINFO    \u001b[0m User sepcifed `nprocs`=\u001b[1;36m1\u001b[0m                                           \u001b]8;id=500972;file:///Users/arshkumar/miniforge3/envs/pasqal/lib/python3.12/site-packages/qadence/ml_tools/train_utils/distribution.py\u001b\\\u001b[2mdistribution.py\u001b[0m\u001b]8;;\u001b\\\u001b[2m:\u001b[0m\u001b]8;id=459199;file:///Users/arshkumar/miniforge3/envs/pasqal/lib/python3.12/site-packages/qadence/ml_tools/train_utils/distribution.py#208\u001b\\\u001b[2m208\u001b[0m\u001b]8;;\u001b\\\n"
      ]
     },
     "metadata": {},
     "output_type": "display_data"
    },
    {
     "data": {
      "text/html": [
       "<pre style=\"white-space:pre;overflow-x:auto;line-height:normal;font-family:Menlo,'DejaVu Sans Mono',consolas,'Courier New',monospace\"><span style=\"color: #7fbfbf; text-decoration-color: #7fbfbf\">                    </span><span style=\"color: #000080; text-decoration-color: #000080\">INFO    </span> Total processes <span style=\"color: #808000; text-decoration-color: #808000\">spawned</span>=<span style=\"color: #008080; text-decoration-color: #008080; font-weight: bold\">1</span>                                          <a href=\"file:///Users/arshkumar/miniforge3/envs/pasqal/lib/python3.12/site-packages/qadence/ml_tools/train_utils/distribution.py\" target=\"_blank\"><span style=\"color: #7f7f7f; text-decoration-color: #7f7f7f\">distribution.py</span></a><span style=\"color: #7f7f7f; text-decoration-color: #7f7f7f\">:</span><a href=\"file:///Users/arshkumar/miniforge3/envs/pasqal/lib/python3.12/site-packages/qadence/ml_tools/train_utils/distribution.py#209\" target=\"_blank\"><span style=\"color: #7f7f7f; text-decoration-color: #7f7f7f\">209</span></a>\n",
       "</pre>\n"
      ],
      "text/plain": [
       "\u001b[2;36m                   \u001b[0m\u001b[2;36m \u001b[0m\u001b[34mINFO    \u001b[0m Total processes \u001b[33mspawned\u001b[0m=\u001b[1;36m1\u001b[0m                                          \u001b]8;id=23422;file:///Users/arshkumar/miniforge3/envs/pasqal/lib/python3.12/site-packages/qadence/ml_tools/train_utils/distribution.py\u001b\\\u001b[2mdistribution.py\u001b[0m\u001b]8;;\u001b\\\u001b[2m:\u001b[0m\u001b]8;id=172161;file:///Users/arshkumar/miniforge3/envs/pasqal/lib/python3.12/site-packages/qadence/ml_tools/train_utils/distribution.py#209\u001b\\\u001b[2m209\u001b[0m\u001b]8;;\u001b\\\n"
      ]
     },
     "metadata": {},
     "output_type": "display_data"
    },
    {
     "data": {
      "text/html": [
       "<pre style=\"white-space:pre;overflow-x:auto;line-height:normal;font-family:Menlo,'DejaVu Sans Mono',consolas,'Courier New',monospace\">/Users/arshkumar/miniforge3/envs/pasqal/lib/python3.12/site-packages/rich/live.py:231: UserWarning: install \n",
       "\"ipywidgets\" for Jupyter support\n",
       "  warnings.warn('install \"ipywidgets\" for Jupyter support')\n",
       "</pre>\n"
      ],
      "text/plain": [
       "/Users/arshkumar/miniforge3/envs/pasqal/lib/python3.12/site-packages/rich/live.py:231: UserWarning: install \n",
       "\"ipywidgets\" for Jupyter support\n",
       "  warnings.warn('install \"ipywidgets\" for Jupyter support')\n"
      ]
     },
     "metadata": {},
     "output_type": "display_data"
    },
    {
     "data": {
      "text/html": [
       "<pre style=\"white-space:pre;overflow-x:auto;line-height:normal;font-family:Menlo,'DejaVu Sans Mono',consolas,'Courier New',monospace\">/Users/arshkumar/miniforge3/envs/pasqal/lib/python3.12/site-packages/rich/live.py:231: UserWarning: install \n",
       "\"ipywidgets\" for Jupyter support\n",
       "  warnings.warn('install \"ipywidgets\" for Jupyter support')\n",
       "</pre>\n"
      ],
      "text/plain": [
       "/Users/arshkumar/miniforge3/envs/pasqal/lib/python3.12/site-packages/rich/live.py:231: UserWarning: install \n",
       "\"ipywidgets\" for Jupyter support\n",
       "  warnings.warn('install \"ipywidgets\" for Jupyter support')\n"
      ]
     },
     "metadata": {},
     "output_type": "display_data"
    },
    {
     "data": {
      "text/html": [
       "<pre style=\"white-space:pre;overflow-x:auto;line-height:normal;font-family:Menlo,'DejaVu Sans Mono',consolas,'Courier New',monospace\">/Users/arshkumar/miniforge3/envs/pasqal/lib/python3.12/site-packages/rich/live.py:231: UserWarning: install \n",
       "\"ipywidgets\" for Jupyter support\n",
       "  warnings.warn('install \"ipywidgets\" for Jupyter support')\n",
       "</pre>\n"
      ],
      "text/plain": [
       "/Users/arshkumar/miniforge3/envs/pasqal/lib/python3.12/site-packages/rich/live.py:231: UserWarning: install \n",
       "\"ipywidgets\" for Jupyter support\n",
       "  warnings.warn('install \"ipywidgets\" for Jupyter support')\n"
      ]
     },
     "metadata": {},
     "output_type": "display_data"
    },
    {
     "data": {
      "text/html": [
       "<pre style=\"white-space:pre;overflow-x:auto;line-height:normal;font-family:Menlo,'DejaVu Sans Mono',consolas,'Courier New',monospace\">/Users/arshkumar/miniforge3/envs/pasqal/lib/python3.12/site-packages/rich/live.py:231: UserWarning: install \n",
       "\"ipywidgets\" for Jupyter support\n",
       "  warnings.warn('install \"ipywidgets\" for Jupyter support')\n",
       "</pre>\n"
      ],
      "text/plain": [
       "/Users/arshkumar/miniforge3/envs/pasqal/lib/python3.12/site-packages/rich/live.py:231: UserWarning: install \n",
       "\"ipywidgets\" for Jupyter support\n",
       "  warnings.warn('install \"ipywidgets\" for Jupyter support')\n"
      ]
     },
     "metadata": {},
     "output_type": "display_data"
    },
    {
     "data": {
      "text/html": [
       "<pre style=\"white-space:pre;overflow-x:auto;line-height:normal;font-family:Menlo,'DejaVu Sans Mono',consolas,'Courier New',monospace\">/Users/arshkumar/miniforge3/envs/pasqal/lib/python3.12/site-packages/rich/live.py:231: UserWarning: install \n",
       "\"ipywidgets\" for Jupyter support\n",
       "  warnings.warn('install \"ipywidgets\" for Jupyter support')\n",
       "</pre>\n"
      ],
      "text/plain": [
       "/Users/arshkumar/miniforge3/envs/pasqal/lib/python3.12/site-packages/rich/live.py:231: UserWarning: install \n",
       "\"ipywidgets\" for Jupyter support\n",
       "  warnings.warn('install \"ipywidgets\" for Jupyter support')\n"
      ]
     },
     "metadata": {},
     "output_type": "display_data"
    },
    {
     "data": {
      "text/html": [
       "<pre style=\"white-space:pre;overflow-x:auto;line-height:normal;font-family:Menlo,'DejaVu Sans Mono',consolas,'Courier New',monospace\">/Users/arshkumar/miniforge3/envs/pasqal/lib/python3.12/site-packages/rich/live.py:231: UserWarning: install \n",
       "\"ipywidgets\" for Jupyter support\n",
       "  warnings.warn('install \"ipywidgets\" for Jupyter support')\n",
       "</pre>\n"
      ],
      "text/plain": [
       "/Users/arshkumar/miniforge3/envs/pasqal/lib/python3.12/site-packages/rich/live.py:231: UserWarning: install \n",
       "\"ipywidgets\" for Jupyter support\n",
       "  warnings.warn('install \"ipywidgets\" for Jupyter support')\n"
      ]
     },
     "metadata": {},
     "output_type": "display_data"
    },
    {
     "data": {
      "text/html": [
       "<pre style=\"white-space:pre;overflow-x:auto;line-height:normal;font-family:Menlo,'DejaVu Sans Mono',consolas,'Courier New',monospace\">/Users/arshkumar/miniforge3/envs/pasqal/lib/python3.12/site-packages/rich/live.py:231: UserWarning: install \n",
       "\"ipywidgets\" for Jupyter support\n",
       "  warnings.warn('install \"ipywidgets\" for Jupyter support')\n",
       "</pre>\n"
      ],
      "text/plain": [
       "/Users/arshkumar/miniforge3/envs/pasqal/lib/python3.12/site-packages/rich/live.py:231: UserWarning: install \n",
       "\"ipywidgets\" for Jupyter support\n",
       "  warnings.warn('install \"ipywidgets\" for Jupyter support')\n"
      ]
     },
     "metadata": {},
     "output_type": "display_data"
    },
    {
     "data": {
      "text/html": [
       "<pre style=\"white-space:pre;overflow-x:auto;line-height:normal;font-family:Menlo,'DejaVu Sans Mono',consolas,'Courier New',monospace\">/Users/arshkumar/miniforge3/envs/pasqal/lib/python3.12/site-packages/rich/live.py:231: UserWarning: install \n",
       "\"ipywidgets\" for Jupyter support\n",
       "  warnings.warn('install \"ipywidgets\" for Jupyter support')\n",
       "</pre>\n"
      ],
      "text/plain": [
       "/Users/arshkumar/miniforge3/envs/pasqal/lib/python3.12/site-packages/rich/live.py:231: UserWarning: install \n",
       "\"ipywidgets\" for Jupyter support\n",
       "  warnings.warn('install \"ipywidgets\" for Jupyter support')\n"
      ]
     },
     "metadata": {},
     "output_type": "display_data"
    },
    {
     "data": {
      "text/html": [
       "<pre style=\"white-space:pre;overflow-x:auto;line-height:normal;font-family:Menlo,'DejaVu Sans Mono',consolas,'Courier New',monospace\">/Users/arshkumar/miniforge3/envs/pasqal/lib/python3.12/site-packages/rich/live.py:231: UserWarning: install \n",
       "\"ipywidgets\" for Jupyter support\n",
       "  warnings.warn('install \"ipywidgets\" for Jupyter support')\n",
       "</pre>\n"
      ],
      "text/plain": [
       "/Users/arshkumar/miniforge3/envs/pasqal/lib/python3.12/site-packages/rich/live.py:231: UserWarning: install \n",
       "\"ipywidgets\" for Jupyter support\n",
       "  warnings.warn('install \"ipywidgets\" for Jupyter support')\n"
      ]
     },
     "metadata": {},
     "output_type": "display_data"
    },
    {
     "data": {
      "text/html": [
       "<pre style=\"white-space:pre;overflow-x:auto;line-height:normal;font-family:Menlo,'DejaVu Sans Mono',consolas,'Courier New',monospace\">/Users/arshkumar/miniforge3/envs/pasqal/lib/python3.12/site-packages/rich/live.py:231: UserWarning: install \n",
       "\"ipywidgets\" for Jupyter support\n",
       "  warnings.warn('install \"ipywidgets\" for Jupyter support')\n",
       "</pre>\n"
      ],
      "text/plain": [
       "/Users/arshkumar/miniforge3/envs/pasqal/lib/python3.12/site-packages/rich/live.py:231: UserWarning: install \n",
       "\"ipywidgets\" for Jupyter support\n",
       "  warnings.warn('install \"ipywidgets\" for Jupyter support')\n"
      ]
     },
     "metadata": {},
     "output_type": "display_data"
    },
    {
     "data": {
      "text/html": [
       "<pre style=\"white-space:pre;overflow-x:auto;line-height:normal;font-family:Menlo,'DejaVu Sans Mono',consolas,'Courier New',monospace\">/Users/arshkumar/miniforge3/envs/pasqal/lib/python3.12/site-packages/rich/live.py:231: UserWarning: install \n",
       "\"ipywidgets\" for Jupyter support\n",
       "  warnings.warn('install \"ipywidgets\" for Jupyter support')\n",
       "</pre>\n"
      ],
      "text/plain": [
       "/Users/arshkumar/miniforge3/envs/pasqal/lib/python3.12/site-packages/rich/live.py:231: UserWarning: install \n",
       "\"ipywidgets\" for Jupyter support\n",
       "  warnings.warn('install \"ipywidgets\" for Jupyter support')\n"
      ]
     },
     "metadata": {},
     "output_type": "display_data"
    },
    {
     "data": {
      "text/html": [
       "<pre style=\"white-space:pre;overflow-x:auto;line-height:normal;font-family:Menlo,'DejaVu Sans Mono',consolas,'Courier New',monospace\"></pre>\n"
      ],
      "text/plain": []
     },
     "metadata": {},
     "output_type": "display_data"
    },
    {
     "name": "stderr",
     "output_type": "stream",
     "text": [
      "/Users/arshkumar/miniforge3/envs/pasqal/lib/python3.12/site-packages/networkx/readwrite/json_graph/node_link.py:142: FutureWarning: \n",
      "The default value will be `edges=\"edges\" in NetworkX 3.6.\n",
      "\n",
      "To make this warning go away, explicitly set the edges kwarg, e.g.:\n",
      "\n",
      "  nx.node_link_data(G, edges=\"links\") to preserve current behavior, or\n",
      "  nx.node_link_data(G, edges=\"edges\") for forward compatibility.\n",
      "  warnings.warn(\n"
     ]
    },
    {
     "data": {
      "text/html": [
       "<pre style=\"white-space:pre;overflow-x:auto;line-height:normal;font-family:Menlo,'DejaVu Sans Mono',consolas,'Courier New',monospace\"><span style=\"color: #7fbfbf; text-decoration-color: #7fbfbf\">2025-03-09 11:18:41 </span><span style=\"color: #000080; text-decoration-color: #000080\">INFO    </span> Writing QuantumModel checkpoint                                        <a href=\"file:///Users/arshkumar/miniforge3/envs/pasqal/lib/python3.12/site-packages/qadence/ml_tools/callbacks/saveload.py\" target=\"_blank\"><span style=\"color: #7f7f7f; text-decoration-color: #7f7f7f\">saveload.py</span></a><span style=\"color: #7f7f7f; text-decoration-color: #7f7f7f\">:</span><a href=\"file:///Users/arshkumar/miniforge3/envs/pasqal/lib/python3.12/site-packages/qadence/ml_tools/callbacks/saveload.py#106\" target=\"_blank\"><span style=\"color: #7f7f7f; text-decoration-color: #7f7f7f\">106</span></a>\n",
       "<span style=\"color: #7fbfbf; text-decoration-color: #7fbfbf\">                    </span>         model_QuantumModel_ckpt_100_device_cpu.pt                              <span style=\"color: #7f7f7f; text-decoration-color: #7f7f7f\">               </span>\n",
       "</pre>\n"
      ],
      "text/plain": [
       "\u001b[2;36m2025-03-09 11:18:41\u001b[0m\u001b[2;36m \u001b[0m\u001b[34mINFO    \u001b[0m Writing QuantumModel checkpoint                                        \u001b]8;id=619776;file:///Users/arshkumar/miniforge3/envs/pasqal/lib/python3.12/site-packages/qadence/ml_tools/callbacks/saveload.py\u001b\\\u001b[2msaveload.py\u001b[0m\u001b]8;;\u001b\\\u001b[2m:\u001b[0m\u001b]8;id=311028;file:///Users/arshkumar/miniforge3/envs/pasqal/lib/python3.12/site-packages/qadence/ml_tools/callbacks/saveload.py#106\u001b\\\u001b[2m106\u001b[0m\u001b]8;;\u001b\\\n",
       "\u001b[2;36m                    \u001b[0m         model_QuantumModel_ckpt_100_device_cpu.pt                              \u001b[2m               \u001b[0m\n"
      ]
     },
     "metadata": {},
     "output_type": "display_data"
    },
    {
     "data": {
      "text/html": [
       "<pre style=\"white-space:pre;overflow-x:auto;line-height:normal;font-family:Menlo,'DejaVu Sans Mono',consolas,'Courier New',monospace\"><span style=\"color: #7fbfbf; text-decoration-color: #7fbfbf\">                    </span><span style=\"color: #000080; text-decoration-color: #000080\">INFO    </span> Writing NGOpt to checkpoint opt_NGOpt_ckpt_100_device_cpu.pt           <a href=\"file:///Users/arshkumar/miniforge3/envs/pasqal/lib/python3.12/site-packages/qadence/ml_tools/callbacks/saveload.py\" target=\"_blank\"><span style=\"color: #7f7f7f; text-decoration-color: #7f7f7f\">saveload.py</span></a><span style=\"color: #7f7f7f; text-decoration-color: #7f7f7f\">:</span><a href=\"file:///Users/arshkumar/miniforge3/envs/pasqal/lib/python3.12/site-packages/qadence/ml_tools/callbacks/saveload.py#116\" target=\"_blank\"><span style=\"color: #7f7f7f; text-decoration-color: #7f7f7f\">116</span></a>\n",
       "</pre>\n"
      ],
      "text/plain": [
       "\u001b[2;36m                   \u001b[0m\u001b[2;36m \u001b[0m\u001b[34mINFO    \u001b[0m Writing NGOpt to checkpoint opt_NGOpt_ckpt_100_device_cpu.pt           \u001b]8;id=803142;file:///Users/arshkumar/miniforge3/envs/pasqal/lib/python3.12/site-packages/qadence/ml_tools/callbacks/saveload.py\u001b\\\u001b[2msaveload.py\u001b[0m\u001b]8;;\u001b\\\u001b[2m:\u001b[0m\u001b]8;id=893662;file:///Users/arshkumar/miniforge3/envs/pasqal/lib/python3.12/site-packages/qadence/ml_tools/callbacks/saveload.py#116\u001b\\\u001b[2m116\u001b[0m\u001b]8;;\u001b\\\n"
      ]
     },
     "metadata": {},
     "output_type": "display_data"
    },
    {
     "name": "stdout",
     "output_type": "stream",
     "text": [
      "{'auxs2,s1': 0, 'auxs3,s0': 0, 's3': 0, 's0': 0, 's2': 1, 's2*s1': 0, 's3*s0': 0, 's1': 0}\n",
      "{'auxs2,s1': 0, 'auxs3,s0': 0, 's3': 0, 's0': 0, 's2': 1, 's2*s1': 0, 's3*s0': 0, 's1': 1}\n",
      "{'auxs2,s1': 0, 'auxs3,s0': 0, 's3': 0, 's0': 0, 's2': 1, 's2*s1': 0, 's3*s0': 1, 's1': 0}\n",
      "{'auxs2,s1': 0, 'auxs3,s0': 0, 's3': 0, 's0': 0, 's2': 1, 's2*s1': 1, 's3*s0': 0, 's1': 0}\n",
      "{'auxs2,s1': 0, 'auxs3,s0': 0, 's3': 0, 's0': 1, 's2': 0, 's2*s1': 0, 's3*s0': 0, 's1': 0}\n",
      "{'auxs2,s1': 0, 'auxs3,s0': 0, 's3': 0, 's0': 1, 's2': 0, 's2*s1': 0, 's3*s0': 0, 's1': 1}\n",
      "{'auxs2,s1': 0, 'auxs3,s0': 0, 's3': 0, 's0': 1, 's2': 0, 's2*s1': 0, 's3*s0': 1, 's1': 0}\n",
      "{'auxs2,s1': 0, 'auxs3,s0': 0, 's3': 0, 's0': 1, 's2': 0, 's2*s1': 1, 's3*s0': 0, 's1': 0}\n",
      "{'auxs2,s1': 0, 'auxs3,s0': 0, 's3': 0, 's0': 1, 's2': 1, 's2*s1': 0, 's3*s0': 0, 's1': 0}\n",
      "{'auxs2,s1': 0, 'auxs3,s0': 0, 's3': 0, 's0': 1, 's2': 1, 's2*s1': 0, 's3*s0': 0, 's1': 1}\n",
      "{'auxs2,s1': 0, 'auxs3,s0': 0, 's3': 0, 's0': 1, 's2': 1, 's2*s1': 0, 's3*s0': 1, 's1': 0}\n",
      "{'auxs2,s1': 0, 'auxs3,s0': 0, 's3': 0, 's0': 1, 's2': 1, 's2*s1': 0, 's3*s0': 1, 's1': 1}\n",
      "{'auxs2,s1': 0, 'auxs3,s0': 0, 's3': 0, 's0': 1, 's2': 1, 's2*s1': 1, 's3*s0': 0, 's1': 0}\n",
      "{'auxs2,s1': 0, 'auxs3,s0': 0, 's3': 0, 's0': 1, 's2': 1, 's2*s1': 1, 's3*s0': 1, 's1': 0}\n",
      "{'auxs2,s1': 0, 'auxs3,s0': 0, 's3': 1, 's0': 0, 's2': 1, 's2*s1': 0, 's3*s0': 0, 's1': 0}\n",
      "{'auxs2,s1': 0, 'auxs3,s0': 0, 's3': 1, 's0': 0, 's2': 1, 's2*s1': 0, 's3*s0': 0, 's1': 1}\n",
      "{'auxs2,s1': 0, 'auxs3,s0': 0, 's3': 1, 's0': 1, 's2': 0, 's2*s1': 0, 's3*s0': 0, 's1': 0}\n",
      "{'auxs2,s1': 0, 'auxs3,s0': 0, 's3': 1, 's0': 1, 's2': 0, 's2*s1': 0, 's3*s0': 0, 's1': 1}\n",
      "{'auxs2,s1': 0, 'auxs3,s0': 0, 's3': 1, 's0': 1, 's2': 0, 's2*s1': 1, 's3*s0': 0, 's1': 0}\n",
      "{'auxs2,s1': 0, 'auxs3,s0': 0, 's3': 1, 's0': 1, 's2': 1, 's2*s1': 0, 's3*s0': 0, 's1': 0}\n",
      "{'auxs2,s1': 0, 'auxs3,s0': 0, 's3': 1, 's0': 1, 's2': 1, 's2*s1': 0, 's3*s0': 0, 's1': 1}\n",
      "{'auxs2,s1': 0, 'auxs3,s0': 0, 's3': 1, 's0': 1, 's2': 1, 's2*s1': 1, 's3*s0': 0, 's1': 0}\n",
      "{'auxs2,s1': 0, 'auxs3,s0': 1, 's3': 0, 's0': 1, 's2': 0, 's2*s1': 0, 's3*s0': 0, 's1': 0}\n",
      "{'auxs2,s1': 0, 'auxs3,s0': 1, 's3': 0, 's0': 1, 's2': 1, 's2*s1': 0, 's3*s0': 0, 's1': 0}\n",
      "{'auxs2,s1': 0, 'auxs3,s0': 1, 's3': 0, 's0': 1, 's2': 1, 's2*s1': 0, 's3*s0': 0, 's1': 1}\n",
      "{'auxs2,s1': 0, 'auxs3,s0': 1, 's3': 0, 's0': 1, 's2': 1, 's2*s1': 1, 's3*s0': 0, 's1': 0}\n",
      "{'auxs2,s1': 0, 'auxs3,s0': 1, 's3': 1, 's0': 0, 's2': 1, 's2*s1': 0, 's3*s0': 0, 's1': 0}\n",
      "{'auxs2,s1': 0, 'auxs3,s0': 1, 's3': 1, 's0': 1, 's2': 1, 's2*s1': 1, 's3*s0': 0, 's1': 0}\n",
      "{'auxs2,s1': 1, 'auxs3,s0': 0, 's3': 0, 's0': 0, 's2': 1, 's2*s1': 0, 's3*s0': 0, 's1': 0}\n",
      "{'auxs2,s1': 1, 'auxs3,s0': 0, 's3': 0, 's0': 1, 's2': 0, 's2*s1': 0, 's3*s0': 0, 's1': 0}\n",
      "{'auxs2,s1': 1, 'auxs3,s0': 0, 's3': 0, 's0': 1, 's2': 1, 's2*s1': 0, 's3*s0': 0, 's1': 0}\n",
      "{'auxs2,s1': 1, 'auxs3,s0': 0, 's3': 1, 's0': 1, 's2': 1, 's2*s1': 0, 's3*s0': 0, 's1': 0}\n",
      "                                               sample        energy\n",
      "0   {'auxs2,s1': 0, 'auxs3,s0': 0, 's3': 0, 's0': ...  13014.285160\n",
      "1   {'auxs2,s1': 0, 'auxs3,s0': 0, 's3': 0, 's0': ...  12068.588158\n",
      "2   {'auxs2,s1': 0, 'auxs3,s0': 0, 's3': 0, 's0': ...   8008.526165\n",
      "3   {'auxs2,s1': 0, 'auxs3,s0': 0, 's3': 0, 's0': ...  11989.311006\n",
      "4   {'auxs2,s1': 0, 'auxs3,s0': 0, 's3': 0, 's0': ...  13014.351941\n",
      "5   {'auxs2,s1': 0, 'auxs3,s0': 0, 's3': 0, 's0': ...   7989.283999\n",
      "6   {'auxs2,s1': 0, 'auxs3,s0': 0, 's3': 0, 's0': ...  12029.493774\n",
      "7   {'auxs2,s1': 0, 'auxs3,s0': 0, 's3': 0, 's0': ...   8047.847899\n",
      "8   {'auxs2,s1': 0, 'auxs3,s0': 0, 's3': 0, 's0': ...   7989.283999\n",
      "9   {'auxs2,s1': 0, 'auxs3,s0': 0, 's3': 0, 's0': ...   7022.686170\n",
      "10  {'auxs2,s1': 0, 'auxs3,s0': 0, 's3': 0, 's0': ...   6983.525005\n",
      "11  {'auxs2,s1': 0, 'auxs3,s0': 0, 's3': 0, 's0': ...   5956.547418\n",
      "12  {'auxs2,s1': 0, 'auxs3,s0': 0, 's3': 0, 's0': ...   7022.779957\n",
      "13  {'auxs2,s1': 0, 'auxs3,s0': 0, 's3': 0, 's0': ...   6037.734215\n",
      "14  {'auxs2,s1': 0, 'auxs3,s0': 0, 's3': 1, 's0': ...   7969.047236\n",
      "15  {'auxs2,s1': 0, 'auxs3,s0': 0, 's3': 1, 's0': ...   7002.449406\n",
      "16  {'auxs2,s1': 0, 'auxs3,s0': 0, 's3': 1, 's0': ...  12050.362672\n",
      "17  {'auxs2,s1': 0, 'auxs3,s0': 0, 's3': 1, 's0': ...   7004.393902\n",
      "18  {'auxs2,s1': 0, 'auxs3,s0': 0, 's3': 1, 's0': ...   7104.571882\n",
      "19  {'auxs2,s1': 0, 'auxs3,s0': 0, 's3': 1, 's0': ...   6964.914973\n",
      "20  {'auxs2,s1': 0, 'auxs3,s0': 0, 's3': 1, 's0': ...   5977.416316\n",
      "21  {'auxs2,s1': 0, 'auxs3,s0': 0, 's3': 1, 's0': ...   6019.124184\n",
      "22  {'auxs2,s1': 0, 'auxs3,s0': 1, 's3': 0, 's0': ...  13014.351941\n",
      "23  {'auxs2,s1': 0, 'auxs3,s0': 1, 's3': 0, 's0': ...   7989.283999\n",
      "24  {'auxs2,s1': 0, 'auxs3,s0': 1, 's3': 0, 's0': ...   7022.686170\n",
      "25  {'auxs2,s1': 0, 'auxs3,s0': 1, 's3': 0, 's0': ...   7022.779957\n",
      "26  {'auxs2,s1': 0, 'auxs3,s0': 1, 's3': 1, 's0': ...   7969.047236\n",
      "27  {'auxs2,s1': 0, 'auxs3,s0': 1, 's3': 1, 's0': ...  14019.124184\n",
      "28  {'auxs2,s1': 1, 'auxs3,s0': 0, 's3': 0, 's0': ...  13014.285160\n",
      "29  {'auxs2,s1': 1, 'auxs3,s0': 0, 's3': 0, 's0': ...   5014.351941\n",
      "30  {'auxs2,s1': 1, 'auxs3,s0': 0, 's3': 0, 's0': ...   7989.283999\n",
      "31  {'auxs2,s1': 1, 'auxs3,s0': 0, 's3': 1, 's0': ...   6964.914973\n",
      "{'auxs2,s1': 1, 'auxs3,s0': 0, 's3': 0, 's0': 1, 's2': 0, 's2*s1': 0, 's3*s0': 0, 's1': 0}\n",
      "0\n",
      "[]\n"
     ]
    },
    {
     "name": "stderr",
     "output_type": "stream",
     "text": [
      "/Users/arshkumar/MyPython/Pasqal_Hackathon_Feb25_Team_04-Henry/XBK_method.py:139: FutureWarning: Calling int on a single element Series is deprecated and will raise a TypeError in the future. Use int(ser.iloc[0]) instead\n",
      "  index = int(solutions[['energy']].idxmin())\n"
     ]
    }
   ],
   "source": [
    "import warnings\n",
    "warnings.filterwarnings(\"ignore\")\n",
    "### XBK method ###\n",
    "\n",
    "#set r value\n",
    "r = 1\n",
    "\n",
    "#construct qubit Hamiltonians and C terms for XBK method\n",
    "qubit_Hs, qubit_Cs = [],[]\n",
    "for p in range(int(math.ceil(r/2+1))):\n",
    "    qubit_Hs += [XBK_transform(qubit_H, r, p)]\n",
    "    qubit_Cs += [construct_C(m, r, p)]\n",
    "\n",
    "#run XBK method\n",
    "XBK_energy, ground_state = XBK(qubit_Hs, qubit_Cs, r, starting_lam=0, num_samples=1000, strength=1e3, verbose=False)\n",
    "\n",
    "print(XBK_energy)\n",
    "print(ground_state) #ground state in rm-qubit space"
   ]
  },
  {
   "cell_type": "code",
   "execution_count": null,
   "metadata": {},
   "outputs": [],
   "source": [
    "new_map = {}\n",
    "for i in range(8):\n",
    "    new_map['s'+str(i)] = mapping['s'+str(i)]\n",
    "new_map"
   ]
  },
  {
   "cell_type": "code",
   "execution_count": null,
   "metadata": {},
   "outputs": [],
   "source": [
    "solutions"
   ]
  },
  {
   "cell_type": "code",
   "execution_count": null,
   "metadata": {},
   "outputs": [],
   "source": [
    "solutions.iloc[0]['sample']"
   ]
  },
  {
   "cell_type": "code",
   "execution_count": null,
   "metadata": {},
   "outputs": [],
   "source": [
    "constant"
   ]
  },
  {
   "cell_type": "code",
   "execution_count": null,
   "metadata": {},
   "outputs": [],
   "source": [
    "for i in range(8):\n",
    "    print(solutions.iloc[0]['sample']['s'+str(i)])"
   ]
  },
  {
   "cell_type": "code",
   "execution_count": null,
   "metadata": {},
   "outputs": [],
   "source": [
    "x = np.array([1, 1, 1, 1, 1, 1, 1, 1])"
   ]
  },
  {
   "cell_type": "code",
   "execution_count": null,
   "metadata": {},
   "outputs": [],
   "source": [
    "XBK_energy"
   ]
  },
  {
   "cell_type": "code",
   "execution_count": null,
   "metadata": {},
   "outputs": [],
   "source": [
    "x.T@Q@x"
   ]
  },
  {
   "cell_type": "code",
   "execution_count": null,
   "metadata": {},
   "outputs": [],
   "source": [
    "new_map = {'s1': 0,'s2': 3,'s0': 5,'s3': 7}"
   ]
  },
  {
   "cell_type": "code",
   "execution_count": null,
   "metadata": {},
   "outputs": [],
   "source": [
    "mapping"
   ]
  },
  {
   "cell_type": "code",
   "execution_count": null,
   "metadata": {},
   "outputs": [],
   "source": [
    "from openfermion import get_sparse_operator"
   ]
  }
 ],
 "metadata": {
  "colab": {
   "provenance": []
  },
  "kernelspec": {
   "display_name": "pasqal",
   "language": "python",
   "name": "python3"
  },
  "language_info": {
   "codemirror_mode": {
    "name": "ipython",
    "version": 3
   },
   "file_extension": ".py",
   "mimetype": "text/x-python",
   "name": "python",
   "nbconvert_exporter": "python",
   "pygments_lexer": "ipython3",
   "version": "3.12.9"
  }
 },
 "nbformat": 4,
 "nbformat_minor": 0
}
